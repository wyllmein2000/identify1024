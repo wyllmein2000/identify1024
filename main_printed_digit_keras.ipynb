{
 "cells": [
  {
   "cell_type": "markdown",
   "metadata": {},
   "source": [
    "# 识别手写体/印刷体数字的分类器 #\n",
    "reference https://lhy.io/digit_recognition/ \n",
    "dataset http://www.ee.surrey.ac.uk/CVSSP/demos/chars74k/"
   ]
  },
  {
   "cell_type": "code",
   "execution_count": 1,
   "metadata": {},
   "outputs": [],
   "source": [
    "from helper import *\n",
    "import tensorflow as tf\n",
    "import os\n",
    "\n",
    "imgDir = '../../data/EnglishFnt/'\n",
    "\n",
    "def shuffleData(X, y):\n",
    "    indices = np.arange(X.shape[0])\n",
    "    np.random.shuffle(indices)\n",
    "    X = X[indices,:,:,:]\n",
    "    y = y[indices]\n",
    "    sep = int(0.8 * len(X))\n",
    "    x_train = X[:sep,:,:,:]\n",
    "    y_train = y[:sep]\n",
    "    x_test = X[sep:,:,:]\n",
    "    y_test = y[sep:]\n",
    "    return (x_train, y_train), (x_test, y_test)\n",
    "\n",
    "def gray2binary(gray, threshold):\n",
    "    bw = gray\n",
    "    idx1 = gray <= threshold\n",
    "    idx2 = gray >= threshold\n",
    "    bw[idx1] = 255\n",
    "    bw[idx2] = 0\n",
    "    return bw"
   ]
  },
  {
   "cell_type": "markdown",
   "metadata": {},
   "source": [
    "## load printed dataset ##"
   ]
  },
  {
   "cell_type": "code",
   "execution_count": 48,
   "metadata": {},
   "outputs": [
    {
     "name": "stderr",
     "output_type": "stream",
     "text": [
      "/Users/wuyan/anaconda2/envs/py3/lib/python3.6/site-packages/skimage/transform/_warps.py:105: UserWarning: The default mode, 'constant', will be changed to 'reflect' in skimage 0.15.\n",
      "  warn(\"The default mode, 'constant', will be changed to 'reflect' in \"\n",
      "/Users/wuyan/anaconda2/envs/py3/lib/python3.6/site-packages/skimage/transform/_warps.py:110: UserWarning: Anti-aliasing will be enabled by default in skimage 0.15 to avoid aliasing artifacts when down-sampling images.\n",
      "  warn(\"Anti-aliasing will be enabled by default in skimage 0.15 to \"\n"
     ]
    },
    {
     "name": "stdout",
     "output_type": "stream",
     "text": [
      "(1016, 24, 24)\n",
      "(1016, 24, 24)\n",
      "(1016, 24, 24)\n",
      "(1016, 24, 24)\n",
      "(1016, 18, 18)\n",
      "(1016, 18, 18)\n",
      "(1016, 18, 18)\n",
      "(1016, 18, 18)\n"
     ]
    }
   ],
   "source": [
    "# original size\n",
    "# nh = 128, nw = 128\n",
    "nh = 24 \n",
    "nw = 24\n",
    "\n",
    "def load_and_rescale(imgDir, nh, nw):\n",
    "\n",
    "    data = []\n",
    "    label = []\n",
    "\n",
    "    for s in os.listdir(imgDir):\n",
    "        if s[6:].isdigit():\n",
    "            y = int(s[6:])\n",
    "        else:\n",
    "            continue\n",
    "        if (y == 4 or y > 5):\n",
    "            continue\n",
    "        subdir = os.path.join(imgDir, s)\n",
    "        samples = load_image_png(subdir, nh, nw)\n",
    "        t = np.ones(len(samples), dtype=np.uint8) * (y - 1)\n",
    "        data.append(samples)\n",
    "        label.append(t)\n",
    "        print(samples.shape)\n",
    "\n",
    "    data = np.array(data)\n",
    "    data = np.reshape(data, (1016 * 4, nh, nw, 1))\n",
    "\n",
    "    label = np.array(label)\n",
    "    label = np.reshape(label, 1016 * 4)\n",
    "\n",
    "    data = gray2binary(data, 127)\n",
    "    data = data / 255.0\n",
    "    \n",
    "    return data, label\n",
    "\n",
    "\n",
    "def expand(image, nx, ny):\n",
    "    n, nw, nh, nc = image.shape\n",
    "    result = np.zeros((n, nw + 2 * nx, nh + 2 * ny, nc))\n",
    "    result[:, nx:nx+nw, ny:ny+nw, :] = image\n",
    "    return result\n",
    "\n",
    "data1, label1 = load_and_rescale(imgDir, nh, nw)\n",
    "data2, label2 = load_and_rescale(imgDir, 18, 18)\n",
    "data2 = expand(data2, 3, 3)\n",
    "\n",
    "data = np.concatenate((data1, data2), axis=0)\n",
    "label = np.hstack((label1, label2))"
   ]
  },
  {
   "cell_type": "code",
   "execution_count": 49,
   "metadata": {},
   "outputs": [
    {
     "name": "stdout",
     "output_type": "stream",
     "text": [
      "(4064, 24, 24, 1)\n",
      "(8128, 24, 24, 1)\n",
      "(8128,)\n"
     ]
    }
   ],
   "source": []
  },
  {
   "cell_type": "markdown",
   "metadata": {},
   "source": [
    "## 扩充数据集 ##"
   ]
  },
  {
   "cell_type": "code",
   "execution_count": 50,
   "metadata": {},
   "outputs": [],
   "source": [
    "# 数据集扩充\n",
    "# 平移\n",
    "nh = 24\n",
    "nw = 24\n",
    "shift = 4\n",
    "\n",
    "def augment_scale(x, y):\n",
    "    data = np.array(x.shape)\n",
    "    label = np.tilt(y, 2)\n",
    "    \n",
    "\n",
    "def augment_translate(x, y):\n",
    "\n",
    "    data, label = x, y\n",
    "    n = len(data)\n",
    "\n",
    "    for i in range(-2, 3):\n",
    "        kx = i * shift\n",
    "        if kx >= 0:\n",
    "            ix1, ix2 = 0, nh - kx\n",
    "        else:\n",
    "            ix1, ix2 = -kx, nh\n",
    "        jx1, jx2 = ix1 + kx, ix2 + kx\n",
    "\n",
    "        for j in range(-2, 3):\n",
    "            if i == 0 and j == 0:\n",
    "                continue\n",
    "            #if abs(i) == 2 and abs(j) == 2:\n",
    "            #    continue\n",
    "\n",
    "            ky = j * shift\n",
    "            if ky >= 0:\n",
    "                iy1, iy2 = 0, nw - ky\n",
    "            else:\n",
    "                iy1, iy2 = -ky, nw\n",
    "            jy1, jy2 = iy1 + ky, iy2 + ky\n",
    "\n",
    "            augdata = np.zeros((n, nh, nw, 1))\n",
    "            augdata[:, ix1:ix2, iy1:iy2, :] = data[:n, jx1:jx2, jy1:jy2, :]\n",
    "\n",
    "            augy = label[:n]\n",
    "\n",
    "            data = np.concatenate((data, augdata), axis=0)\n",
    "            label = np.hstack((label, augy))   \n",
    "            \n",
    "    return data, label\n",
    "\n",
    "data, label = augment_translate(data, label)"
   ]
  },
  {
   "cell_type": "code",
   "execution_count": 51,
   "metadata": {},
   "outputs": [
    {
     "name": "stdout",
     "output_type": "stream",
     "text": [
      "(203200, 24, 24, 1)\n",
      "(203200, 24, 24, 1) (203200,)\n",
      "[0 0 0 ... 4 4 4]\n"
     ]
    }
   ],
   "source": [
    "print(data.shape)\n",
    "print(data.shape, label.shape)\n",
    "print(label)"
   ]
  },
  {
   "cell_type": "code",
   "execution_count": 52,
   "metadata": {},
   "outputs": [
    {
     "name": "stdout",
     "output_type": "stream",
     "text": [
      "0.0 1.0\n"
     ]
    }
   ],
   "source": [
    "print(np.min(data), np.max(data))\n",
    "\n",
    "samples = data\n",
    "(x_train, y_train),(x_test, y_test) = shuffleData(samples, label)"
   ]
  },
  {
   "cell_type": "markdown",
   "metadata": {},
   "source": [
    "## load handwrite digit dataset & merge ##"
   ]
  },
  {
   "cell_type": "code",
   "execution_count": 6,
   "metadata": {},
   "outputs": [
    {
     "name": "stdout",
     "output_type": "stream",
     "text": [
      "(68275, 24, 24, 1) (68275,)\n",
      "(24465, 28, 28) (24465,)\n"
     ]
    }
   ],
   "source": [
    "from load_mnist import loadmnist\n",
    "(x1_train, y1_train),(x1_test, y1_test) = loadmnist()\n",
    "\n",
    "print(x_train.shape, y_train.shape)\n",
    "print(x1_train.shape, y1_train.shape)"
   ]
  },
  {
   "cell_type": "code",
   "execution_count": null,
   "metadata": {},
   "outputs": [],
   "source": []
  },
  {
   "cell_type": "code",
   "execution_count": 53,
   "metadata": {},
   "outputs": [],
   "source": [
    "label_train = y_train.copy()\n",
    "y_train[label_train == 4] = 3\n",
    "\n",
    "label_test = y_test.copy()\n",
    "y_test[label_test == 4] = 3"
   ]
  },
  {
   "cell_type": "code",
   "execution_count": 54,
   "metadata": {},
   "outputs": [
    {
     "data": {
      "image/png": "[encoded data removed]",
      "text/plain": [
       "<Figure size 720x576 with 50 Axes>"
      ]
     },
     "metadata": {},
     "output_type": "display_data"
    }
   ],
   "source": [
    "import random\n",
    "import matplotlib.pyplot as plt\n",
    "\n",
    "fm = 5\n",
    "fn = 10\n",
    "\n",
    "plt.figure(figsize=(10, 8))\n",
    "\n",
    "for i in range(fm):\n",
    "    for j in range(fn):\n",
    "\n",
    "        k = random.randint(0, len(y_test))\n",
    "        pic = np.reshape(x_test[k, :, :, :], (nh, nh))\n",
    "\n",
    "        plt.subplot(fm, fn, i * fn + j + 1)\n",
    "        plt.imshow(pic, cmap='gray')\n",
    "        plt.xlabel(label_test[k])\n",
    "    \n",
    "plt.show()"
   ]
  },
  {
   "cell_type": "markdown",
   "metadata": {},
   "source": [
    "## create deep models ##"
   ]
  },
  {
   "cell_type": "code",
   "execution_count": 55,
   "metadata": {},
   "outputs": [
    {
     "name": "stdout",
     "output_type": "stream",
     "text": [
      "_________________________________________________________________\n",
      "Layer (type)                 Output Shape              Param #   \n",
      "=================================================================\n",
      "flatten_19 (Flatten)         (None, 576)               0         \n",
      "_________________________________________________________________\n",
      "dense_41 (Dense)             (None, 16)                9232      \n",
      "_________________________________________________________________\n",
      "dropout_23 (Dropout)         (None, 16)                0         \n",
      "_________________________________________________________________\n",
      "dense_42 (Dense)             (None, 32)                544       \n",
      "_________________________________________________________________\n",
      "dropout_24 (Dropout)         (None, 32)                0         \n",
      "_________________________________________________________________\n",
      "dense_43 (Dense)             (None, 4)                 132       \n",
      "=================================================================\n",
      "Total params: 9,908\n",
      "Trainable params: 9,908\n",
      "Non-trainable params: 0\n",
      "_________________________________________________________________\n",
      "_________________________________________________________________\n",
      "Layer (type)                 Output Shape              Param #   \n",
      "=================================================================\n",
      "conv2d_15 (Conv2D)           (None, 22, 22, 8)         80        \n",
      "_________________________________________________________________\n",
      "conv2d_16 (Conv2D)           (None, 20, 20, 16)        1168      \n",
      "_________________________________________________________________\n",
      "flatten_20 (Flatten)         (None, 6400)              0         \n",
      "_________________________________________________________________\n",
      "dense_44 (Dense)             (None, 4)                 25604     \n",
      "=================================================================\n",
      "Total params: 26,852\n",
      "Trainable params: 26,852\n",
      "Non-trainable params: 0\n",
      "_________________________________________________________________\n"
     ]
    }
   ],
   "source": [
    "from tensorflow import keras\n",
    "from keras.models import Model\n",
    "from keras.layers import Input, Dense, Flatten, Dropout\n",
    "\n",
    "def create_model_1():\n",
    "    input_tensor = Input(shape=(128, nh, nw, 1), name=\"input\")\n",
    "    x = Flatten()(input_tensor)\n",
    "    x = Dense(16, activation=tf.nn.relu)(x)\n",
    "    x = Dropout(0.2)(x)\n",
    "    x = Dense(16, activation=tf.nn.relu)(x)\n",
    "    x = Dropout(0.2)(x)\n",
    "    x = Dense(4, activation=tf.nn.softmax)(x)\n",
    "    model = Model(inputs=input_tensor, outputs=x)\n",
    "    model.compile(loss='sparse_categorical_crossentropy', optimizer='adam', metrics=['accuracy'])\n",
    "    return model\n",
    "\n",
    "    \n",
    "def create_model():\n",
    "    model = tf.keras.models.Sequential([\n",
    "      tf.keras.layers.Flatten(input_shape=(24, 24, 1)),\n",
    "      tf.keras.layers.Dense(16, activation=tf.nn.relu),\n",
    "      tf.keras.layers.Dropout(0.2),\n",
    "      tf.keras.layers.Dense(32, activation=tf.nn.relu),\n",
    "      tf.keras.layers.Dropout(0.2),\n",
    "      tf.keras.layers.Dense(4, activation=tf.nn.softmax)\n",
    "    ])\n",
    "    model.compile(optimizer='adam', loss='sparse_categorical_crossentropy', metrics=['accuracy'])\n",
    "    return model\n",
    "\n",
    "\n",
    "def create_model_c():\n",
    "    model_c = tf.keras.models.Sequential([\n",
    "      tf.keras.layers.Conv2D(filters=8, kernel_size=(3, 3), strides=(1, 1), activation='relu', input_shape=(24, 24, 1)),\n",
    "      tf.keras.layers.Conv2D(filters=16, kernel_size=(3, 3), strides=(1, 1), activation='relu'),\n",
    "      #tf.keras.layers.Conv2D(filters=64, kernel_size=(3, 3), strides=(1, 1), activation='relu', padding='same'),\n",
    "      #tf.keras.layers.Dropout(0.2),\n",
    "      tf.keras.layers.Flatten(),\n",
    "      tf.keras.layers.Dense(4, activation=tf.nn.softmax)\n",
    "    ])\n",
    "    model_c.compile(optimizer='adam', loss='sparse_categorical_crossentropy', metrics=['accuracy'])\n",
    "    return model_c \n",
    "\n",
    "create_model().summary()\n",
    "create_model_c().summary()"
   ]
  },
  {
   "cell_type": "markdown",
   "metadata": {},
   "source": [
    "## train DNN model ##"
   ]
  },
  {
   "cell_type": "code",
   "execution_count": 14,
   "metadata": {},
   "outputs": [
    {
     "name": "stdout",
     "output_type": "stream",
     "text": [
      "Epoch 1/20\n",
      "68275/68275 [==============================] - 2s 33us/step - loss: 0.8080 - acc: 0.6758\n",
      "\n",
      "Epoch 00001: saving model to training_1/cp.ckpt\n",
      "Epoch 2/20\n",
      "68275/68275 [==============================] - 2s 29us/step - loss: 0.5128 - acc: 0.8123\n",
      "\n",
      "Epoch 00002: saving model to training_1/cp.ckpt\n",
      "Epoch 3/20\n",
      "68275/68275 [==============================] - 2s 29us/step - loss: 0.4517 - acc: 0.8333\n",
      "\n",
      "Epoch 00003: saving model to training_1/cp.ckpt\n",
      "Epoch 4/20\n",
      "68275/68275 [==============================] - 2s 30us/step - loss: 0.4206 - acc: 0.8441\n",
      "\n",
      "Epoch 00004: saving model to training_1/cp.ckpt\n",
      "Epoch 5/20\n",
      "68275/68275 [==============================] - 2s 29us/step - loss: 0.4055 - acc: 0.8493\n",
      "\n",
      "Epoch 00005: saving model to training_1/cp.ckpt\n",
      "Epoch 6/20\n",
      "68275/68275 [==============================] - 2s 29us/step - loss: 0.3872 - acc: 0.8562\n",
      "\n",
      "Epoch 00006: saving model to training_1/cp.ckpt\n",
      "Epoch 7/20\n",
      "68275/68275 [==============================] - 2s 29us/step - loss: 0.3790 - acc: 0.8603\n",
      "\n",
      "Epoch 00007: saving model to training_1/cp.ckpt\n",
      "Epoch 8/20\n",
      "68275/68275 [==============================] - 2s 29us/step - loss: 0.3697 - acc: 0.8625\n",
      "\n",
      "Epoch 00008: saving model to training_1/cp.ckpt\n",
      "Epoch 9/20\n",
      "68275/68275 [==============================] - 2s 29us/step - loss: 0.3620 - acc: 0.8661\n",
      "\n",
      "Epoch 00009: saving model to training_1/cp.ckpt\n",
      "Epoch 10/20\n",
      "68275/68275 [==============================] - 2s 29us/step - loss: 0.3600 - acc: 0.8649\n",
      "\n",
      "Epoch 00010: saving model to training_1/cp.ckpt\n",
      "Epoch 11/20\n",
      "68275/68275 [==============================] - 2s 28us/step - loss: 0.3517 - acc: 0.8681\n",
      "\n",
      "Epoch 00011: saving model to training_1/cp.ckpt\n",
      "Epoch 12/20\n",
      "68275/68275 [==============================] - 2s 30us/step - loss: 0.3506 - acc: 0.8700\n",
      "\n",
      "Epoch 00012: saving model to training_1/cp.ckpt\n",
      "Epoch 13/20\n",
      "68275/68275 [==============================] - 2s 28us/step - loss: 0.3471 - acc: 0.8703\n",
      "\n",
      "Epoch 00013: saving model to training_1/cp.ckpt\n",
      "Epoch 14/20\n",
      "68275/68275 [==============================] - 2s 30us/step - loss: 0.3435 - acc: 0.8725\n",
      "\n",
      "Epoch 00014: saving model to training_1/cp.ckpt\n",
      "Epoch 15/20\n",
      "68275/68275 [==============================] - 2s 29us/step - loss: 0.3442 - acc: 0.8707\n",
      "\n",
      "Epoch 00015: saving model to training_1/cp.ckpt\n",
      "Epoch 16/20\n",
      "68275/68275 [==============================] - 2s 28us/step - loss: 0.3354 - acc: 0.8742\n",
      "\n",
      "Epoch 00016: saving model to training_1/cp.ckpt\n",
      "Epoch 17/20\n",
      "68275/68275 [==============================] - 2s 31us/step - loss: 0.3347 - acc: 0.8745\n",
      "\n",
      "Epoch 00017: saving model to training_1/cp.ckpt\n",
      "Epoch 18/20\n",
      "68275/68275 [==============================] - 2s 30us/step - loss: 0.3351 - acc: 0.8769\n",
      "\n",
      "Epoch 00018: saving model to training_1/cp.ckpt\n",
      "Epoch 19/20\n",
      "68275/68275 [==============================] - 2s 29us/step - loss: 0.3351 - acc: 0.8754\n",
      "\n",
      "Epoch 00019: saving model to training_1/cp.ckpt\n",
      "Epoch 20/20\n",
      "68275/68275 [==============================] - 2s 29us/step - loss: 0.3328 - acc: 0.8759\n",
      "\n",
      "Epoch 00020: saving model to training_1/cp.ckpt\n",
      "17069/17069 [==============================] - 0s 26us/step\n"
     ]
    }
   ],
   "source": [
    "model = create_model()\n",
    "model.summary()\n",
    "\n",
    "checkpoint_path = \"training_1/cp.ckpt\"\n",
    "checkpoint_dir = os.path.dirname(checkpoint_path)\n",
    "\n",
    "# Create checkpoint callback\n",
    "cp_callback = tf.keras.callbacks.ModelCheckpoint(checkpoint_path, save_weights_only=True, verbose=1)\n",
    "\n",
    "model.fit(x_train, y_train, batch_size=64, epochs=20, callbacks = [cp_callback])\n",
    "model.evaluate(x_test, y_test)\n",
    "\n",
    "model.save('model.h5')"
   ]
  },
  {
   "cell_type": "code",
   "execution_count": 12,
   "metadata": {
    "scrolled": true
   },
   "outputs": [
    {
     "name": "stdout",
     "output_type": "stream",
     "text": [
      "(68275, 24, 24, 1)\n"
     ]
    }
   ],
   "source": []
  },
  {
   "cell_type": "markdown",
   "metadata": {},
   "source": [
    "## train a CNN model ##\n",
    "\n",
    "save and restore models\n",
    "https://www.tensorflow.org/tutorials/keras/save_and_restore_models"
   ]
  },
  {
   "cell_type": "code",
   "execution_count": 61,
   "metadata": {},
   "outputs": [
    {
     "name": "stdout",
     "output_type": "stream",
     "text": [
      "_________________________________________________________________\n",
      "Layer (type)                 Output Shape              Param #   \n",
      "=================================================================\n",
      "conv2d_21 (Conv2D)           (None, 22, 22, 8)         80        \n",
      "_________________________________________________________________\n",
      "conv2d_22 (Conv2D)           (None, 20, 20, 16)        1168      \n",
      "_________________________________________________________________\n",
      "flatten_23 (Flatten)         (None, 6400)              0         \n",
      "_________________________________________________________________\n",
      "dense_47 (Dense)             (None, 4)                 25604     \n",
      "=================================================================\n",
      "Total params: 26,852\n",
      "Trainable params: 26,852\n",
      "Non-trainable params: 0\n",
      "_________________________________________________________________\n",
      "Epoch 1/20\n",
      "162560/162560 [==============================] - 37s 231us/step - loss: 0.3464 - acc: 0.8895\n",
      "\n",
      "Epoch 00001: saving model to training_2/cp.ckpt\n",
      "Epoch 2/20\n",
      "162560/162560 [==============================] - 37s 226us/step - loss: 0.1537 - acc: 0.9531\n",
      "\n",
      "Epoch 00002: saving model to training_2/cp.ckpt\n",
      "Epoch 3/20\n",
      "162560/162560 [==============================] - 37s 227us/step - loss: 0.1127 - acc: 0.9643\n",
      "\n",
      "Epoch 00003: saving model to training_2/cp.ckpt\n",
      "Epoch 4/20\n",
      "162560/162560 [==============================] - 37s 226us/step - loss: 0.0896 - acc: 0.9711\n",
      "\n",
      "Epoch 00004: saving model to training_2/cp.ckpt\n",
      "Epoch 5/20\n",
      "162560/162560 [==============================] - 37s 226us/step - loss: 0.0751 - acc: 0.9751\n",
      "\n",
      "Epoch 00005: saving model to training_2/cp.ckpt\n",
      "Epoch 6/20\n",
      "162560/162560 [==============================] - 37s 226us/step - loss: 0.0641 - acc: 0.9783\n",
      "\n",
      "Epoch 00006: saving model to training_2/cp.ckpt\n",
      "Epoch 7/20\n",
      "162560/162560 [==============================] - 36s 223us/step - loss: 0.0561 - acc: 0.9809\n",
      "\n",
      "Epoch 00007: saving model to training_2/cp.ckpt\n",
      "Epoch 8/20\n",
      "162560/162560 [==============================] - 35s 217us/step - loss: 0.0500 - acc: 0.9828\n",
      "\n",
      "Epoch 00008: saving model to training_2/cp.ckpt\n",
      "Epoch 9/20\n",
      "162560/162560 [==============================] - 35s 217us/step - loss: 0.0460 - acc: 0.9841\n",
      "\n",
      "Epoch 00009: saving model to training_2/cp.ckpt\n",
      "Epoch 10/20\n",
      "162560/162560 [==============================] - 35s 217us/step - loss: 0.0417 - acc: 0.9855\n",
      "\n",
      "Epoch 00010: saving model to training_2/cp.ckpt\n",
      "Epoch 11/20\n",
      "162560/162560 [==============================] - 35s 217us/step - loss: 0.0380 - acc: 0.9869\n",
      "\n",
      "Epoch 00011: saving model to training_2/cp.ckpt\n",
      "Epoch 12/20\n",
      "162560/162560 [==============================] - 35s 217us/step - loss: 0.0348 - acc: 0.9879\n",
      "\n",
      "Epoch 00012: saving model to training_2/cp.ckpt\n",
      "Epoch 13/20\n",
      "162560/162560 [==============================] - 35s 217us/step - loss: 0.0332 - acc: 0.9887\n",
      "\n",
      "Epoch 00013: saving model to training_2/cp.ckpt\n",
      "Epoch 14/20\n",
      "162560/162560 [==============================] - 35s 217us/step - loss: 0.0311 - acc: 0.9892\n",
      "\n",
      "Epoch 00014: saving model to training_2/cp.ckpt\n",
      "Epoch 15/20\n",
      "162560/162560 [==============================] - 35s 217us/step - loss: 0.0281 - acc: 0.9905\n",
      "\n",
      "Epoch 00015: saving model to training_2/cp.ckpt\n",
      "Epoch 16/20\n",
      "162560/162560 [==============================] - 35s 217us/step - loss: 0.0265 - acc: 0.9910\n",
      "\n",
      "Epoch 00016: saving model to training_2/cp.ckpt\n",
      "Epoch 17/20\n",
      "162560/162560 [==============================] - 35s 218us/step - loss: 0.0248 - acc: 0.9914\n",
      "\n",
      "Epoch 00017: saving model to training_2/cp.ckpt\n",
      "Epoch 18/20\n",
      "162560/162560 [==============================] - 35s 217us/step - loss: 0.0240 - acc: 0.9917\n",
      "\n",
      "Epoch 00018: saving model to training_2/cp.ckpt\n",
      "Epoch 19/20\n",
      "162560/162560 [==============================] - 35s 217us/step - loss: 0.0225 - acc: 0.9925\n",
      "\n",
      "Epoch 00019: saving model to training_2/cp.ckpt\n",
      "Epoch 20/20\n",
      "162560/162560 [==============================] - 35s 218us/step - loss: 0.0207 - acc: 0.9928\n",
      "\n",
      "Epoch 00020: saving model to training_2/cp.ckpt\n",
      "40640/40640 [==============================] - 3s 80us/step\n"
     ]
    }
   ],
   "source": [
    "model_c = create_model_c()\n",
    "model_c.summary()\n",
    "\n",
    "checkpoint_path = \"training_2/cp.ckpt\"\n",
    "checkpoint_dir = os.path.dirname(checkpoint_path)\n",
    "\n",
    "# Create checkpoint callback\n",
    "cp_callback = tf.keras.callbacks.ModelCheckpoint(checkpoint_path, save_weights_only=True, verbose=1)\n",
    "\n",
    "model_c.fit(x_train, y_train, batch_size=64, epochs=20, callbacks = [cp_callback])\n",
    "model_c.evaluate(x_test, y_test)\n",
    "\n",
    "# save the entire model\n",
    "model_c.save('model_c.h5')"
   ]
  },
  {
   "cell_type": "code",
   "execution_count": 114,
   "metadata": {},
   "outputs": [
    {
     "name": "stdout",
     "output_type": "stream",
     "text": [
      "0.0 1.0\n"
     ]
    }
   ],
   "source": [
    "print(np.min(x_test), np.max(x_test))"
   ]
  },
  {
   "cell_type": "markdown",
   "metadata": {},
   "source": [
    "# TEST DATA #\n",
    "collect from small vehicle"
   ]
  },
  {
   "cell_type": "code",
   "execution_count": 57,
   "metadata": {},
   "outputs": [
    {
     "name": "stderr",
     "output_type": "stream",
     "text": [
      "/Users/wuyan/anaconda2/envs/py3/lib/python3.6/site-packages/skimage/transform/_warps.py:105: UserWarning: The default mode, 'constant', will be changed to 'reflect' in skimage 0.15.\n",
      "  warn(\"The default mode, 'constant', will be changed to 'reflect' in \"\n",
      "/Users/wuyan/anaconda2/envs/py3/lib/python3.6/site-packages/skimage/transform/_warps.py:110: UserWarning: Anti-aliasing will be enabled by default in skimage 0.15 to avoid aliasing artifacts when down-sampling images.\n",
      "  warn(\"Anti-aliasing will be enabled by default in skimage 0.15 to \"\n"
     ]
    },
    {
     "name": "stdout",
     "output_type": "stream",
     "text": [
      "(1, 24, 32, 3)\n",
      "(15, 24, 32, 3)\n",
      "(1, 24, 32, 3)\n",
      "(5, 24, 32, 3)\n"
     ]
    }
   ],
   "source": [
    "gc = 127\n",
    "nh = 24\n",
    "nw = 32\n",
    "\n",
    "samples, label = load_image_x(\"./test\", nh, nw)\n",
    "\n",
    "n = len(label)\n",
    "\n",
    "x_real = preprocess(samples, 4, 127)\n",
    "x_real = np.reshape(x_real, (n, nh, nh, 1))\n",
    "y_real = label\n",
    "y_real[label == 4] = 3"
   ]
  },
  {
   "cell_type": "markdown",
   "metadata": {},
   "source": [
    "## Predict with DNN model##"
   ]
  },
  {
   "cell_type": "code",
   "execution_count": 16,
   "metadata": {},
   "outputs": [
    {
     "name": "stdout",
     "output_type": "stream",
     "text": [
      "23/23 [==============================] - 0s 81us/step\n",
      "[3.785400390625, 0.43478259444236755]\n",
      "[0 0 0 1 2 0 0 0 0 1 1 2 1 1 1 0 1 2 0 1 2 0 4]\n"
     ]
    }
   ],
   "source": [
    "print(model.evaluate(x_real, y_real))\n",
    "\n",
    "y_pred = model.predict(x_real).argmax(1)\n",
    "y_label = y_pred\n",
    "y_label[y_pred == 3] = 4\n",
    "print(y_pred)"
   ]
  },
  {
   "cell_type": "code",
   "execution_count": 22,
   "metadata": {},
   "outputs": [
    {
     "name": "stdout",
     "output_type": "stream",
     "text": [
      "23/23 [==============================] - 0s 7ms/step\n",
      "Untrained model, accuracy: 39.13%\n",
      "23/23 [==============================] - 0s 49us/step\n",
      "Restored model, accuracy: 43.48%\n",
      "[0 0 0 1 2 0 0 0 0 1 1 2 1 1 1 0 1 2 0 1 2 0 4]\n"
     ]
    }
   ],
   "source": [
    "checkpoint_path = \"training_1/cp.ckpt\"\n",
    "\n",
    "model = create_model()\n",
    "loss, acc = model.evaluate(x_real, y_real)\n",
    "print(\"Untrained model, accuracy: {:5.2f}%\".format(100*acc))\n",
    "\n",
    "model.load_weights(checkpoint_path)\n",
    "loss, acc = model.evaluate(x_real, y_real)\n",
    "print(\"Restored model, accuracy: {:5.2f}%\".format(100*acc))\n",
    "\n",
    "y_pred = model.predict(x_real).argmax(1)\n",
    "y_label = y_pred\n",
    "y_label[y_pred == 3] = 4\n",
    "print(y_pred)"
   ]
  },
  {
   "cell_type": "code",
   "execution_count": null,
   "metadata": {},
   "outputs": [],
   "source": []
  },
  {
   "cell_type": "code",
   "execution_count": 23,
   "metadata": {},
   "outputs": [
    {
     "data": {
      "image/png": "[encoded data removed]",
      "text/plain": [
       "<Figure size 1080x216 with 23 Axes>"
      ]
     },
     "metadata": {},
     "output_type": "display_data"
    }
   ],
   "source": [
    "plt.figure(figsize=(15, 3))\n",
    "\n",
    "for i in range(n):\n",
    "    plt.subplot(1, n, i + 1)\n",
    "\n",
    "    pic = np.reshape(x_real[i,:,:,:], (nh, nh))\n",
    "    \n",
    "    plt.imshow(pic, cmap='gray')\n",
    "    plt.xlabel(str(y_label[i]))\n",
    "    \n",
    "plt.show()"
   ]
  },
  {
   "cell_type": "markdown",
   "metadata": {},
   "source": [
    "## Predict with CNN model ##"
   ]
  },
  {
   "cell_type": "code",
   "execution_count": 62,
   "metadata": {},
   "outputs": [
    {
     "name": "stdout",
     "output_type": "stream",
     "text": [
      "22/22 [==============================] - 0s 21ms/step\n",
      "Untrained model, accuracy: 27.27%\n",
      "22/22 [==============================] - 0s 118us/step\n",
      "Restored model, accuracy: 59.09%\n",
      "[0 0 0 1 4 0 1 1 0 1 4 0 1 0 0 1 2 4 4 4 4 4]\n"
     ]
    }
   ],
   "source": [
    "checkpoint_path = \"training_2/cp.ckpt\"\n",
    "\n",
    "model_c = create_model_c()\n",
    "loss, acc = model_c.evaluate(x_real, y_real)\n",
    "print(\"Untrained model, accuracy: {:5.2f}%\".format(100*acc))\n",
    "\n",
    "model_c.load_weights(checkpoint_path)\n",
    "loss, acc = model_c.evaluate(x_real, y_real)\n",
    "print(\"Restored model, accuracy: {:5.2f}%\".format(100*acc))\n",
    "\n",
    "y_pred = model_c.predict(x_real).argmax(1)\n",
    "y_label = y_pred\n",
    "y_label[y_pred == 3] = 4\n",
    "print(y_pred)"
   ]
  },
  {
   "cell_type": "code",
   "execution_count": 63,
   "metadata": {},
   "outputs": [
    {
     "name": "stdout",
     "output_type": "stream",
     "text": [
      "_________________________________________________________________\n",
      "Layer (type)                 Output Shape              Param #   \n",
      "=================================================================\n",
      "conv2d_21 (Conv2D)           (None, 22, 22, 8)         80        \n",
      "_________________________________________________________________\n",
      "conv2d_22 (Conv2D)           (None, 20, 20, 16)        1168      \n",
      "_________________________________________________________________\n",
      "flatten_23 (Flatten)         (None, 6400)              0         \n",
      "_________________________________________________________________\n",
      "dense_47 (Dense)             (None, 4)                 25604     \n",
      "=================================================================\n",
      "Total params: 26,852\n",
      "Trainable params: 26,852\n",
      "Non-trainable params: 0\n",
      "_________________________________________________________________\n",
      "22/22 [==============================] - 0s 9ms/step\n",
      "Restored model, accuracy: 59.09%\n"
     ]
    }
   ],
   "source": [
    "new_model = keras.models.load_model('./model_c.h5')\n",
    "new_model.summary()\n",
    "\n",
    "loss, acc = new_model.evaluate(x_real, y_real)\n",
    "print(\"Restored model, accuracy: {:5.2f}%\".format(100*acc))"
   ]
  },
  {
   "cell_type": "code",
   "execution_count": 64,
   "metadata": {},
   "outputs": [
    {
     "data": {
      "image/png": "[encoded data removed]",
      "text/plain": [
       "<Figure size 1080x216 with 22 Axes>"
      ]
     },
     "metadata": {},
     "output_type": "display_data"
    }
   ],
   "source": [
    "plt.figure(figsize=(15, 3))\n",
    "\n",
    "for i in range(n):\n",
    "    plt.subplot(1, n, i + 1)\n",
    "\n",
    "    pic = np.reshape(x_real[i,:,:,:], (nh, nh))\n",
    "    \n",
    "    plt.imshow(pic, cmap='gray')\n",
    "    plt.xlabel(str(y_label[i]))\n",
    "    \n",
    "plt.show()"
   ]
  },
  {
   "cell_type": "code",
   "execution_count": 174,
   "metadata": {},
   "outputs": [
    {
     "name": "stdout",
     "output_type": "stream",
     "text": [
      "3251 813\n"
     ]
    }
   ],
   "source": [
    "print(len(y_train), len(y_test))"
   ]
  },
  {
   "cell_type": "markdown",
   "metadata": {},
   "source": [
    "## model ouput##\n",
    "\n",
    "Java 调用Keras和tensorflow模型\n",
    "https://www.jianshu.com/p/0016a34c82c8"
   ]
  },
  {
   "cell_type": "code",
   "execution_count": 79,
   "metadata": {},
   "outputs": [],
   "source": [
    "def freeze_session(session, keep_var_names=None, output_names=None, clear_devices=True):\n",
    "    \"\"\"\n",
    "    :param session: 需要转换的tensorflow的session\n",
    "    :param keep_var_names:需要保留的variable，默认全部转换constant\n",
    "    :param output_names:output的名字\n",
    "    :param clear_devices:是否移除设备指令以获得更好的可移植性\n",
    "    :return:\n",
    "    \"\"\"\n",
    "    from tensorflow.python.framework.graph_util import convert_variables_to_constants\n",
    "    graph = session.graph\n",
    "    with graph.as_default():\n",
    "        freeze_var_names = list(set(v.op.name for v in tf.global_variables()).difference(keep_var_names or []))\n",
    "        output_names = output_names or []\n",
    "        # 如果指定了output名字，则复制一个新的Tensor，并且以指定的名字命名\n",
    "        if len(output_names) > 0:\n",
    "            for i in range(output_names):\n",
    "                # 当前graph中复制一个新的Tensor，指定名字\n",
    "                tf.identity(model.model.outputs[i], name=output_names[i])\n",
    "        output_names += [v.op.name for v in tf.global_variables()]\n",
    "        input_graph_def = graph.as_graph_def()\n",
    "        if clear_devices:\n",
    "            for node in input_graph_def.node:\n",
    "                node.device = \"\"\n",
    "        frozen_graph = convert_variables_to_constants(session, input_graph_def,\n",
    "                                                      output_names, freeze_var_names)\n",
    "        return frozen_graph"
   ]
  },
  {
   "cell_type": "code",
   "execution_count": 110,
   "metadata": {
    "scrolled": true
   },
   "outputs": [
    {
     "ename": "ValueError",
     "evalue": "You are trying to load a weight file containing 3 layers into a model with 0 layers.",
     "output_type": "error",
     "traceback": [
      "\u001b[0;31m---------------------------------------------------------------------------\u001b[0m",
      "\u001b[0;31mValueError\u001b[0m                                Traceback (most recent call last)",
      "\u001b[0;32m<ipython-input-110-038da6bc0b8b>\u001b[0m in \u001b[0;36m<module>\u001b[0;34m()\u001b[0m\n\u001b[1;32m     18\u001b[0m \u001b[0;34m\u001b[0m\u001b[0m\n\u001b[1;32m     19\u001b[0m \u001b[0;31m#model.load_model(\"model.h5\")\u001b[0m\u001b[0;34m\u001b[0m\u001b[0;34m\u001b[0m\u001b[0m\n\u001b[0;32m---> 20\u001b[0;31m \u001b[0mmodel\u001b[0m \u001b[0;34m=\u001b[0m \u001b[0mload_model\u001b[0m\u001b[0;34m(\u001b[0m\u001b[0;34m'model.h5'\u001b[0m\u001b[0;34m)\u001b[0m\u001b[0;34m\u001b[0m\u001b[0m\n\u001b[0m\u001b[1;32m     21\u001b[0m \u001b[0;34m\u001b[0m\u001b[0m\n\u001b[1;32m     22\u001b[0m \u001b[0mprint\u001b[0m\u001b[0;34m(\u001b[0m\u001b[0mmodel\u001b[0m\u001b[0;34m.\u001b[0m\u001b[0minput\u001b[0m\u001b[0;34m.\u001b[0m\u001b[0mop\u001b[0m\u001b[0;34m.\u001b[0m\u001b[0mname\u001b[0m\u001b[0;34m)\u001b[0m\u001b[0;34m\u001b[0m\u001b[0m\n",
      "\u001b[0;32m~/anaconda2/envs/py3/lib/python3.6/site-packages/keras/engine/saving.py\u001b[0m in \u001b[0;36mload_model\u001b[0;34m(filepath, custom_objects, compile)\u001b[0m\n\u001b[1;32m    262\u001b[0m \u001b[0;34m\u001b[0m\u001b[0m\n\u001b[1;32m    263\u001b[0m         \u001b[0;31m# set weights\u001b[0m\u001b[0;34m\u001b[0m\u001b[0;34m\u001b[0m\u001b[0m\n\u001b[0;32m--> 264\u001b[0;31m         \u001b[0mload_weights_from_hdf5_group\u001b[0m\u001b[0;34m(\u001b[0m\u001b[0mf\u001b[0m\u001b[0;34m[\u001b[0m\u001b[0;34m'model_weights'\u001b[0m\u001b[0;34m]\u001b[0m\u001b[0;34m,\u001b[0m \u001b[0mmodel\u001b[0m\u001b[0;34m.\u001b[0m\u001b[0mlayers\u001b[0m\u001b[0;34m)\u001b[0m\u001b[0;34m\u001b[0m\u001b[0m\n\u001b[0m\u001b[1;32m    265\u001b[0m \u001b[0;34m\u001b[0m\u001b[0m\n\u001b[1;32m    266\u001b[0m         \u001b[0;32mif\u001b[0m \u001b[0mcompile\u001b[0m\u001b[0;34m:\u001b[0m\u001b[0;34m\u001b[0m\u001b[0m\n",
      "\u001b[0;32m~/anaconda2/envs/py3/lib/python3.6/site-packages/keras/engine/saving.py\u001b[0m in \u001b[0;36mload_weights_from_hdf5_group\u001b[0;34m(f, layers, reshape)\u001b[0m\n\u001b[1;32m    899\u001b[0m                          \u001b[0;34m'containing '\u001b[0m \u001b[0;34m+\u001b[0m \u001b[0mstr\u001b[0m\u001b[0;34m(\u001b[0m\u001b[0mlen\u001b[0m\u001b[0;34m(\u001b[0m\u001b[0mlayer_names\u001b[0m\u001b[0;34m)\u001b[0m\u001b[0;34m)\u001b[0m \u001b[0;34m+\u001b[0m\u001b[0;34m\u001b[0m\u001b[0m\n\u001b[1;32m    900\u001b[0m                          \u001b[0;34m' layers into a model with '\u001b[0m \u001b[0;34m+\u001b[0m\u001b[0;34m\u001b[0m\u001b[0m\n\u001b[0;32m--> 901\u001b[0;31m                          str(len(filtered_layers)) + ' layers.')\n\u001b[0m\u001b[1;32m    902\u001b[0m \u001b[0;34m\u001b[0m\u001b[0m\n\u001b[1;32m    903\u001b[0m     \u001b[0;31m# We batch weight value assignments in a single backend call\u001b[0m\u001b[0;34m\u001b[0m\u001b[0;34m\u001b[0m\u001b[0m\n",
      "\u001b[0;31mValueError\u001b[0m: You are trying to load a weight file containing 3 layers into a model with 0 layers."
     ]
    }
   ],
   "source": [
    "from keras import backend as K\n",
    "from keras.models import load_model\n",
    "import tensorflow as tf\n",
    "\n",
    "# del model\n",
    "\n",
    "model = tf.keras.models.Sequential([\n",
    "  tf.keras.layers.Flatten(),\n",
    "  tf.keras.layers.Dense(16, activation=tf.nn.relu),\n",
    "  tf.keras.layers.Dropout(0.2),\n",
    "  tf.keras.layers.Dense(16, activation=tf.nn.relu),\n",
    "  tf.keras.layers.Dropout(0.2),\n",
    "  tf.keras.layers.Dense(4, activation=tf.nn.softmax)\n",
    "])\n",
    "model.compile(optimizer='adam',\n",
    "              loss='sparse_categorical_crossentropy',\n",
    "              metrics=['accuracy'])\n",
    "\n",
    "#model.load_model(\"model.h5\")\n",
    "model = load_model('model.h5')\n",
    "\n",
    "print(model.input.op.name)\n",
    "print(model.output.op.name)\n",
    "\n",
    "# 自定义output_names\n",
    "frozen_graph = freeze_session(K.get_session(), output_names=[\"output\"])\n",
    "tf.train.write_graph(frozen_graph, \"./\", \"model.pb\", as_text=False)\n",
    "\n",
    "### 输出：\n",
    "# input\n",
    "# output_softmax/Softmax\n",
    "# 如果不自定义output_name，则生成的pb模型的output_name为output_softmax/Softmax，如果自定义则以自定义名为output_name"
   ]
  },
  {
   "cell_type": "code",
   "execution_count": null,
   "metadata": {},
   "outputs": [],
   "source": []
  }
 ],
 "metadata": {
  "kernelspec": {
   "display_name": "Python 3",
   "language": "python",
   "name": "python3"
  },
  "language_info": {
   "codemirror_mode": {
    "name": "ipython",
    "version": 3
   },
   "file_extension": ".py",
   "mimetype": "text/x-python",
   "name": "python",
   "nbconvert_exporter": "python",
   "pygments_lexer": "ipython3",
   "version": "3.6.3"
  }
 },
 "nbformat": 4,
 "nbformat_minor": 2
}
