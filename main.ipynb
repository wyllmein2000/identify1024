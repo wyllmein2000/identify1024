{
 "cells": [
  {
   "cell_type": "code",
   "execution_count": 199,
   "metadata": {},
   "outputs": [],
   "source": [
    "import numpy as np\n",
    "#import cv2\n",
    "import os\n",
    "#from scipy.misc import imread, imresize\n",
    "import matplotlib.pyplot as plt\n",
    "from glob import glob\n",
    "from skimage import io, transform\n",
    "\n",
    "\n",
    "def rgb2grey(image):\n",
    "    gray = image[:, :, 0] * 0.299 + image[:, :, 1] * 0.587 + image[:, :, 2] * 0.114 + 0.5\n",
    "    #gray = np.sum(image, axis=2) / 3.0\n",
    "    gray = gray.astype(np.uint8)\n",
    "    return gray\n",
    "\n",
    "def rgb2bw(image, threshold):\n",
    "    gray = rgb2grey(image)\n",
    "    idx1 = gray <= threshold\n",
    "    idx2 = gray >= threshold\n",
    "    gray[idx1] = 255\n",
    "    gray[idx2] = 0\n",
    "    return gray;\n",
    "\n",
    "\n",
    "# 读取目录下所有的jpg图片\n",
    "def load_image(image_path, image_height, image_width):\n",
    "    file_name=glob(image_path+\"/*jpg\")\n",
    "    sample = []\n",
    "    for file in file_name:\n",
    "        #pic = imread(file).astype(np.float32)\n",
    "        #pic = imresize(pic, (image_size, image_size)).astype(np.float32)\n",
    "        pic = io.imread(file)#.astype(np.float32)         \n",
    "        print(pic.shape, np.min(pic), np.max(pic))\n",
    "        pic = transform.resize(pic, (image_height, image_width)) * 255\n",
    "        pic = pic.astype(np.uint8)\n",
    "        #print(pic.shape, np.min(pic), np.max(pic))\n",
    "        sample.append(pic)\n",
    " \n",
    "    sample = np.array(sample)\n",
    "    return sample\n",
    "\n",
    "\n",
    "\n",
    "def preprocess(image):\n",
    "    image = image[:, 4:28]\n",
    "    return image"
   ]
  },
  {
   "cell_type": "code",
   "execution_count": 200,
   "metadata": {
    "scrolled": true
   },
   "outputs": [
    {
     "name": "stdout",
     "output_type": "stream",
     "text": [
      "(962, 1186, 3) 0 255\n",
      "(1032, 1156, 3) 0 255\n",
      "(988, 1178, 3) 0 255\n",
      "(994, 1176, 3) 0 255\n"
     ]
    },
    {
     "name": "stderr",
     "output_type": "stream",
     "text": [
      "/Users/wuyan/anaconda2/envs/py3/lib/python3.6/site-packages/skimage/transform/_warps.py:105: UserWarning: The default mode, 'constant', will be changed to 'reflect' in skimage 0.15.\n",
      "  warn(\"The default mode, 'constant', will be changed to 'reflect' in \"\n",
      "/Users/wuyan/anaconda2/envs/py3/lib/python3.6/site-packages/skimage/transform/_warps.py:110: UserWarning: Anti-aliasing will be enabled by default in skimage 0.15 to avoid aliasing artifacts when down-sampling images.\n",
      "  warn(\"Anti-aliasing will be enabled by default in skimage 0.15 to \"\n"
     ]
    },
    {
     "name": "stdout",
     "output_type": "stream",
     "text": [
      "(4, 24, 32, 3)\n"
     ]
    },
    {
     "data": {
      "image/png": "[encoded data removed]",
      "text/plain": [
       "<Figure size 432x288 with 4 Axes>"
      ]
     },
     "metadata": {},
     "output_type": "display_data"
    }
   ],
   "source": [
    "# original image size \n",
    "# nh = 962, nw = 1156\n",
    "\n",
    "# original image size \n",
    "# nh = 480, nw = 640\n",
    "\n",
    "nh = 24\n",
    "nw = 32\n",
    "gc = 127\n",
    "\n",
    "master = []\n",
    "\n",
    "\n",
    "samples = load_image(\"./data\", nh, nw)\n",
    "print(samples.shape)\n",
    "\n",
    "for i in range(len(samples)):\n",
    "    plt.subplot(1, 4, i + 1)\n",
    "\n",
    "    pic = samples[i, :, :, :]\n",
    "    #plt.imshow(pic)\n",
    "\n",
    "    dat = rgb2bw(pic, gc)\n",
    "    dat = preprocess(dat)\n",
    "    plt.imshow(dat, cmap='gray')\n",
    "    \n",
    "    master.append(dat)\n",
    "    \n",
    "plt.show()\n",
    "master = np.array(master)"
   ]
  },
  {
   "cell_type": "code",
   "execution_count": 201,
   "metadata": {},
   "outputs": [],
   "source": [
    "def denoise(image, nh, nw):\n",
    "    ne = int(nw / 6.0)\n",
    "    image[:, :ne] = 255\n",
    "    image[:, nw-ne:] = 255\n",
    "    return image\n",
    "\n",
    "def similarity(a, b):\n",
    "    return np.sum(a*b)/(np.sqrt(np.sum(a*a)) * np.sqrt(np.sum(b*b)))\n",
    "\n",
    "def match(master, pic):\n",
    "    flag = -1\n",
    "    sim = -1.0          \n",
    "    print(master.shape)\n",
    "    for k in range(len(master)):\n",
    "        mas = master[k,:,:]\n",
    "        coe = similarity(mas, pic)\n",
    "        #print(k, coe)\n",
    "        if sim < coe:\n",
    "            sim = coe \n",
    "            flag = k \n",
    "    return flag, sim"
   ]
  },
  {
   "cell_type": "code",
   "execution_count": 203,
   "metadata": {},
   "outputs": [
    {
     "name": "stdout",
     "output_type": "stream",
     "text": [
      "(480, 640, 3) 0 255\n",
      "(480, 640, 3) 0 255\n",
      "(480, 640, 3) 0 255\n",
      "(480, 640, 3) 0 255\n",
      "(994, 1176, 3) 0 255\n",
      "(962, 1186, 3) 0 255\n"
     ]
    },
    {
     "name": "stderr",
     "output_type": "stream",
     "text": [
      "/Users/wuyan/anaconda2/envs/py3/lib/python3.6/site-packages/skimage/transform/_warps.py:105: UserWarning: The default mode, 'constant', will be changed to 'reflect' in skimage 0.15.\n",
      "  warn(\"The default mode, 'constant', will be changed to 'reflect' in \"\n",
      "/Users/wuyan/anaconda2/envs/py3/lib/python3.6/site-packages/skimage/transform/_warps.py:110: UserWarning: Anti-aliasing will be enabled by default in skimage 0.15 to avoid aliasing artifacts when down-sampling images.\n",
      "  warn(\"Anti-aliasing will be enabled by default in skimage 0.15 to \"\n"
     ]
    },
    {
     "name": "stdout",
     "output_type": "stream",
     "text": [
      "(1032, 1156, 3) 0 255\n",
      "(988, 1178, 3) 0 255\n",
      "shape (8, 24, 32, 3)\n",
      "(4, 24, 24)\n",
      "(4, 24, 24)\n",
      "(4, 24, 24)\n",
      "(4, 24, 24)\n",
      "(4, 24, 24)\n",
      "(4, 24, 24)\n",
      "(4, 24, 24)\n",
      "(4, 24, 24)\n"
     ]
    },
    {
     "data": {
      "image/png": "[encoded data removed]",
      "text/plain": [
       "<Figure size 432x288 with 8 Axes>"
      ]
     },
     "metadata": {},
     "output_type": "display_data"
    }
   ],
   "source": [
    "label = ['0', '1', '2', '4']\n",
    "test = load_image(\"./test\", nh, nw)\n",
    "n = len(test)\n",
    "\n",
    "print('shape', test.shape)\n",
    "\n",
    "#f, axarr = plt.subplots(1, 4)\n",
    "\n",
    "# 显示第一张图片\n",
    "for i in range(n):\n",
    "    plt.subplot(1, n, i + 1)\n",
    "\n",
    "    pic=test[i,:,:,:]\n",
    "    #plt.imshow(pic)\n",
    "\n",
    "    dat = rgb2bw(pic, gc)\n",
    "    dat = preprocess(dat)\n",
    "    #dat = preprocess(dat, nh, nw)\n",
    "    k, sim = match(master, dat)\n",
    "    \n",
    "    plt.imshow(dat, cmap='gray')\n",
    "    plt.xlabel(label[k] + ', ' + str(float('%.2f' %  sim)))\n",
    "    \n",
    "plt.show()"
   ]
  },
  {
   "cell_type": "code",
   "execution_count": 72,
   "metadata": {},
   "outputs": [
    {
     "name": "stdout",
     "output_type": "stream",
     "text": [
      "[[[0.54901961 0.50196078 0.51764706]\n",
      "  [0.61960784 0.57254902 0.58823529]\n",
      "  [0.70196078 0.65882353 0.6745098 ]\n",
      "  ...\n",
      "  [0.73333333 0.74901961 0.74509804]\n",
      "  [0.73333333 0.74901961 0.74509804]\n",
      "  [0.7372549  0.75294118 0.74901961]]]\n"
     ]
    }
   ],
   "source": [
    "#print(samples[0,400:500,500:600,:])\n",
    "print(test[0,:1,:,:])"
   ]
  },
  {
   "cell_type": "markdown",
   "metadata": {},
   "source": [
    "## model output##"
   ]
  },
  {
   "cell_type": "code",
   "execution_count": 204,
   "metadata": {},
   "outputs": [],
   "source": [
    "def freeze_session(session, keep_var_names=None, output_names=None, clear_devices=True):\n",
    "    \"\"\"\n",
    "    :param session: 需要转换的tensorflow的session\n",
    "    :param keep_var_names:需要保留的variable，默认全部转换constant\n",
    "    :param output_names:output的名字\n",
    "    :param clear_devices:是否移除设备指令以获得更好的可移植性\n",
    "    :return:\n",
    "    \"\"\"\n",
    "    from tensorflow.python.framework.graph_util import convert_variables_to_constants\n",
    "    graph = session.graph\n",
    "    with graph.as_default():\n",
    "        freeze_var_names = list(set(v.op.name for v in tf.global_variables()).difference(keep_var_names or []))\n",
    "        output_names = output_names or []\n",
    "        # 如果指定了output名字，则复制一个新的Tensor，并且以指定的名字命名\n",
    "        if len(output_names) > 0:\n",
    "            for i in range(output_names):\n",
    "                # 当前graph中复制一个新的Tensor，指定名字\n",
    "                tf.identity(model.model.outputs[i], name=output_names[i])\n",
    "        output_names += [v.op.name for v in tf.global_variables()]\n",
    "        input_graph_def = graph.as_graph_def()\n",
    "        if clear_devices:\n",
    "            for node in input_graph_def.node:\n",
    "                node.device = \"\"\n",
    "        frozen_graph = convert_variables_to_constants(session, input_graph_def,\n",
    "                                                      output_names, freeze_var_names)\n",
    "        return frozen_graph"
   ]
  },
  {
   "cell_type": "code",
   "execution_count": null,
   "metadata": {},
   "outputs": [],
   "source": []
  }
 ],
 "metadata": {
  "kernelspec": {
   "display_name": "Python 3",
   "language": "python",
   "name": "python3"
  },
  "language_info": {
   "codemirror_mode": {
    "name": "ipython",
    "version": 3
   },
   "file_extension": ".py",
   "mimetype": "text/x-python",
   "name": "python",
   "nbconvert_exporter": "python",
   "pygments_lexer": "ipython3",
   "version": "3.6.3"
  }
 },
 "nbformat": 4,
 "nbformat_minor": 2
}
