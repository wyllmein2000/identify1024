{
 "cells": [
  {
   "cell_type": "code",
   "execution_count": 47,
   "metadata": {},
   "outputs": [],
   "source": [
    "import tensorflow as tf\n",
    "mnist = tf.keras.datasets.mnist\n",
    "\n",
    "(x_train, y_train),(x_test, y_test) = mnist.load_data()\n",
    "x_train, x_test = x_train / 255.0, x_test / 255.0\n",
    "\n",
    "\n",
    "def gray2binary(image, threshold):\n",
    "    idx1 = image <= threshold\n",
    "    idx2 = image >= threshold\n",
    "    image[idx1] = 0\n",
    "    image[idx2] = 1.0\n",
    "    return image\n",
    "\n",
    "def reducedata(x, y):\n",
    "    idx = (y < 3) | (y == 4)\n",
    "    x = x[idx,:,:]\n",
    "    y = y[idx]\n",
    "    y[y == 4] = 3\n",
    "    return x, y"
   ]
  },
  {
   "cell_type": "code",
   "execution_count": 1,
   "metadata": {},
   "outputs": [
    {
     "name": "stdout",
     "output_type": "stream",
     "text": [
      "Downloading data from https://s3.amazonaws.com/img-datasets/mnist.npz\n",
      "11493376/11490434 [==============================] - 8s 1us/step\n",
      "Epoch 1/5\n",
      "60000/60000 [==============================] - 8s 133us/step - loss: 0.2184 - acc: 0.9350\n",
      "Epoch 2/5\n",
      "60000/60000 [==============================] - 8s 128us/step - loss: 0.0962 - acc: 0.9705\n",
      "Epoch 3/5\n",
      "60000/60000 [==============================] - 8s 132us/step - loss: 0.0677 - acc: 0.9779\n",
      "Epoch 4/5\n",
      "60000/60000 [==============================] - 8s 130us/step - loss: 0.0547 - acc: 0.9824\n",
      "Epoch 5/5\n",
      "60000/60000 [==============================] - 8s 130us/step - loss: 0.0437 - acc: 0.9857\n",
      "10000/10000 [==============================] - 0s 38us/step\n"
     ]
    },
    {
     "data": {
      "text/plain": [
       "[0.06721055440052878, 0.9803]"
      ]
     },
     "execution_count": 1,
     "metadata": {},
     "output_type": "execute_result"
    }
   ],
   "source": [
    "model = tf.keras.models.Sequential([\n",
    "  tf.keras.layers.Flatten(),\n",
    "  tf.keras.layers.Dense(512, activation=tf.nn.relu),\n",
    "  tf.keras.layers.Dropout(0.2),\n",
    "  tf.keras.layers.Dense(10, activation=tf.nn.softmax)\n",
    "])\n",
    "model.compile(optimizer='adam',\n",
    "              loss='sparse_categorical_crossentropy',\n",
    "              metrics=['accuracy'])\n",
    "\n",
    "model.fit(x_train, y_train, epochs=5)\n",
    "model.evaluate(x_test, y_test)"
   ]
  },
  {
   "cell_type": "code",
   "execution_count": 48,
   "metadata": {},
   "outputs": [
    {
     "name": "stdout",
     "output_type": "stream",
     "text": [
      "Epoch 1/5\n",
      "24465/24465 [==============================] - 3s 143us/step - loss: 0.0740 - acc: 0.9769\n",
      "Epoch 2/5\n",
      "24465/24465 [==============================] - 3s 133us/step - loss: 0.0271 - acc: 0.9914\n",
      "Epoch 3/5\n",
      "24465/24465 [==============================] - 3s 115us/step - loss: 0.0154 - acc: 0.9951\n",
      "Epoch 4/5\n",
      "24465/24465 [==============================] - 3s 118us/step - loss: 0.0093 - acc: 0.9968\n",
      "Epoch 5/5\n",
      "24465/24465 [==============================] - 3s 117us/step - loss: 0.0089 - acc: 0.9966\n",
      "4129/4129 [==============================] - 0s 52us/step\n"
     ]
    },
    {
     "data": {
      "text/plain": [
       "[0.02966553982634775, 0.9907968031000243]"
      ]
     },
     "execution_count": 48,
     "metadata": {},
     "output_type": "execute_result"
    }
   ],
   "source": [
    "x_train_b, y_train_b = reducedata(x_train, y_train)\n",
    "x_test_b, y_test_b = reducedata(x_test, y_test)\n",
    "\n",
    "x_train_b = gray2binary(x_train_b, 0.5)\n",
    "x_test_b = gray2binary(x_test_b, 0.5)\n",
    "\n",
    "model_b = tf.keras.models.Sequential([\n",
    "  tf.keras.layers.Flatten(),\n",
    "  tf.keras.layers.Dense(512, activation=tf.nn.relu),\n",
    "  tf.keras.layers.Dropout(0.2),\n",
    "  tf.keras.layers.Dense(4, activation=tf.nn.softmax)\n",
    "])\n",
    "model_b.compile(optimizer='adam',\n",
    "              loss='sparse_categorical_crossentropy',\n",
    "              metrics=['accuracy'])\n",
    "\n",
    "model_b.fit(x_train_b, y_train_b, epochs=5)\n",
    "model_b.evaluate(x_test_b, y_test_b)"
   ]
  },
  {
   "cell_type": "code",
   "execution_count": 49,
   "metadata": {},
   "outputs": [
    {
     "name": "stdout",
     "output_type": "stream",
     "text": [
      "(4129, 28, 28) 4129\n"
     ]
    }
   ],
   "source": [
    "print(x_test_b.shape, len(y_test_b))"
   ]
  },
  {
   "cell_type": "code",
   "execution_count": 53,
   "metadata": {},
   "outputs": [
    {
     "data": {
      "image/png": "[encoded data removed]",
      "text/plain": [
       "<Figure size 432x288 with 5 Axes>"
      ]
     },
     "metadata": {},
     "output_type": "display_data"
    }
   ],
   "source": [
    "import random\n",
    "import matplotlib.pyplot as plt\n",
    "\n",
    "for i in range(5):\n",
    "\n",
    "    j = random.randint(0, len(y_test_b))\n",
    "    pic = x_test_b[j, :, :]\n",
    "\n",
    "    plt.subplot(1, 5, i + 1)\n",
    "    plt.imshow(pic, cmap='gray')\n",
    "    plt.xlabel(y_test_b[j])\n",
    "    \n",
    "plt.show()"
   ]
  },
  {
   "cell_type": "code",
   "execution_count": 55,
   "metadata": {},
   "outputs": [
    {
     "name": "stdout",
     "output_type": "stream",
     "text": [
      "28 38\n"
     ]
    },
    {
     "name": "stderr",
     "output_type": "stream",
     "text": [
      "/Users/wuyan/anaconda2/envs/py3/lib/python3.6/site-packages/skimage/transform/_warps.py:105: UserWarning: The default mode, 'constant', will be changed to 'reflect' in skimage 0.15.\n",
      "  warn(\"The default mode, 'constant', will be changed to 'reflect' in \"\n",
      "/Users/wuyan/anaconda2/envs/py3/lib/python3.6/site-packages/skimage/transform/_warps.py:110: UserWarning: Anti-aliasing will be enabled by default in skimage 0.15 to avoid aliasing artifacts when down-sampling images.\n",
      "  warn(\"Anti-aliasing will be enabled by default in skimage 0.15 to \"\n"
     ]
    },
    {
     "name": "stdout",
     "output_type": "stream",
     "text": [
      "8/8 [==============================] - 0s 155us/step\n",
      "[2.8704614639282227, 0.5]\n",
      "[2 2 4 2 4 0 1 2]\n"
     ]
    }
   ],
   "source": [
    "from helper import *\n",
    "\n",
    "gc = 127\n",
    "nh = int(24 * (28 / 24))\n",
    "nw = int(32 * (28 / 24) + 0.5) + 1\n",
    "print(nh, nw)\n",
    "\n",
    "samples = load_image(\"./test\", nh, nw)\n",
    "n = len(samples)\n",
    "\n",
    "x_real = preprocess(samples, 5, 127)\n",
    "y_real = [1, 1, 1, 1, 3, 0, 1, 2]\n",
    "\n",
    "print(model_b.evaluate(x_real, y_real))\n",
    "\n",
    "y_pred = model_b.predict(x_real).argmax(1)\n",
    "y_label = y_pred\n",
    "y_label[y_pred == 3] = 4\n",
    "print(y_pred)"
   ]
  },
  {
   "cell_type": "code",
   "execution_count": 56,
   "metadata": {},
   "outputs": [
    {
     "data": {
      "image/png": "[encoded data removed]",
      "text/plain": [
       "<Figure size 432x288 with 8 Axes>"
      ]
     },
     "metadata": {},
     "output_type": "display_data"
    }
   ],
   "source": [
    "for i in range(n):\n",
    "    plt.subplot(1, n, i + 1)\n",
    "\n",
    "    pic = x_real[i,:,:]\n",
    "    \n",
    "    plt.imshow(pic, cmap='gray')\n",
    "    plt.xlabel(str(y_label[i]))\n",
    "    \n",
    "plt.show()"
   ]
  },
  {
   "cell_type": "code",
   "execution_count": 18,
   "metadata": {},
   "outputs": [
    {
     "data": {
      "text/plain": [
       "[1, 1, 1, 1, 4, 0, 1, 2]"
      ]
     },
     "execution_count": 18,
     "metadata": {},
     "output_type": "execute_result"
    }
   ],
   "source": []
  },
  {
   "cell_type": "code",
   "execution_count": 41,
   "metadata": {},
   "outputs": [
    {
     "name": "stdout",
     "output_type": "stream",
     "text": [
      "[ True False False False  True  True  True False False  True]\n",
      "[2 0 4 2 1]\n"
     ]
    }
   ],
   "source": []
  },
  {
   "cell_type": "code",
   "execution_count": 34,
   "metadata": {},
   "outputs": [
    {
     "name": "stdout",
     "output_type": "stream",
     "text": [
      "8 28 38 3\n"
     ]
    }
   ],
   "source": []
  },
  {
   "cell_type": "code",
   "execution_count": null,
   "metadata": {},
   "outputs": [],
   "source": []
  }
 ],
 "metadata": {
  "kernelspec": {
   "display_name": "Python 3",
   "language": "python",
   "name": "python3"
  },
  "language_info": {
   "codemirror_mode": {
    "name": "ipython",
    "version": 3
   },
   "file_extension": ".py",
   "mimetype": "text/x-python",
   "name": "python",
   "nbconvert_exporter": "python",
   "pygments_lexer": "ipython3",
   "version": "3.6.3"
  }
 },
 "nbformat": 4,
 "nbformat_minor": 2
}
