{
 "cells": [
  {
   "cell_type": "markdown",
   "metadata": {},
   "source": [
    "# 识别手写体/印刷体数字的分类器 #\n",
    "reference https://lhy.io/digit_recognition/ \n",
    "dataset http://www.ee.surrey.ac.uk/CVSSP/demos/chars74k/"
   ]
  },
  {
   "cell_type": "code",
   "execution_count": 1,
   "metadata": {},
   "outputs": [],
   "source": [
    "from helper import *\n",
    "import tensorflow as tf\n",
    "import os\n",
    "\n",
    "imgDir = '../../data/EnglishFnt/'\n",
    "\n",
    "def shuffleData(X, y):\n",
    "    indices = np.arange(X.shape[0])\n",
    "    np.random.shuffle(indices)\n",
    "    X = X[indices,:,:,:]\n",
    "    y = y[indices]\n",
    "    sep = int(0.8 * len(X))\n",
    "    x_train = X[:sep,:,:,:]\n",
    "    y_train = y[:sep]\n",
    "    x_test = X[sep:,:,:]\n",
    "    y_test = y[sep:]\n",
    "    return (x_train, y_train), (x_test, y_test)\n",
    "\n",
    "def gray2binary(gray, threshold):\n",
    "    bw = gray\n",
    "    idx1 = gray <= threshold\n",
    "    idx2 = gray >= threshold\n",
    "    bw[idx1] = 255\n",
    "    bw[idx2] = 0\n",
    "    return bw"
   ]
  },
  {
   "cell_type": "markdown",
   "metadata": {},
   "source": [
    "## load printed dataset ##"
   ]
  },
  {
   "cell_type": "code",
   "execution_count": 47,
   "metadata": {},
   "outputs": [
    {
     "name": "stderr",
     "output_type": "stream",
     "text": [
      "/Users/wuyan/anaconda2/envs/py3/lib/python3.6/site-packages/skimage/transform/_warps.py:105: UserWarning: The default mode, 'constant', will be changed to 'reflect' in skimage 0.15.\n",
      "  warn(\"The default mode, 'constant', will be changed to 'reflect' in \"\n",
      "/Users/wuyan/anaconda2/envs/py3/lib/python3.6/site-packages/skimage/transform/_warps.py:110: UserWarning: Anti-aliasing will be enabled by default in skimage 0.15 to avoid aliasing artifacts when down-sampling images.\n",
      "  warn(\"Anti-aliasing will be enabled by default in skimage 0.15 to \"\n"
     ]
    },
    {
     "name": "stdout",
     "output_type": "stream",
     "text": [
      "(1016, 24, 24)\n",
      "(1016, 24, 24)\n",
      "(1016, 24, 24)\n",
      "(1016, 24, 24)\n"
     ]
    }
   ],
   "source": [
    "# original size\n",
    "# nh = 128, nw = 128\n",
    "nh = 24 \n",
    "nw = 24\n",
    "\n",
    "data = []\n",
    "label = []\n",
    "\n",
    "for s in os.listdir(imgDir):\n",
    "    if s[6:].isdigit():\n",
    "        y = int(s[6:])\n",
    "    else:\n",
    "        continue\n",
    "    if (y == 4 or y > 5):\n",
    "        continue\n",
    "    subdir = os.path.join(imgDir, s)\n",
    "    samples = load_image_png(subdir, nh, nw)\n",
    "    t = np.ones(len(samples), dtype=np.uint8) * (y - 1)\n",
    "    data.append(samples)\n",
    "    label.append(t)\n",
    "    print(samples.shape)\n",
    "    \n",
    "data = np.array(data)\n",
    "data = np.reshape(data, (1016 * 4, nh, nw, 1))\n",
    "\n",
    "label = np.array(label)\n",
    "label = np.reshape(label, 1016 * 4)\n",
    "\n",
    "data = gray2binary(data, 127)\n",
    "data = data / 255.0"
   ]
  },
  {
   "cell_type": "markdown",
   "metadata": {},
   "source": [
    "## 扩充数据集 ##"
   ]
  },
  {
   "cell_type": "code",
   "execution_count": null,
   "metadata": {},
   "outputs": [],
   "source": [
    "for k in range(2):\n",
    "    augdata = np.zeros((n * 4, nh, nw, 1))\n",
    "    shift = (k + 1) * 4\n",
    "    \n",
    "    augdata[  0:  n, :, 0:nw-shift, :] = data[:n, :, shift:nw, :]\n",
    "    augdata[  n:2*n, :, shift:nw, :] = data[:n, :, 0:nw-shift, :]\n",
    "    augdata[2*n:3*n, 0:nh-shift, :, :] = data[:n, shift:nh, :, :]\n",
    "    augdata[3*n:4*n, shift:nh, :, :] = data[:n, 0:nh-shift, :, :]\n",
    "    augy = label[:n]\n",
    "    \n",
    "    data = np.concatenate((data, augdata), axis=0)\n",
    "    label = np.hstack((label, np.tile(augy, 4)))   "
   ]
  },
  {
   "cell_type": "code",
   "execution_count": 51,
   "metadata": {},
   "outputs": [],
   "source": [
    "# 数据集扩充\n",
    "# 平移\n",
    "nh = 24\n",
    "nw = 24\n",
    "shift = 4\n",
    "\n",
    "n = len(data)\n",
    "\n",
    "for i in range(-2, 3):\n",
    "    kx = i * shift\n",
    "    if kx >= 0:\n",
    "        ix1, ix2 = 0, nh - kx\n",
    "    else:\n",
    "        ix1, ix2 = -kx, nh\n",
    "    jx1, jx2 = ix1 + kx, ix2 + kx\n",
    "        \n",
    "    for j in range(-2, 3):\n",
    "        if i == 0 and j == 0:\n",
    "            continue\n",
    "        if abs(i) == 2 and abs(j) == 2:\n",
    "            continue\n",
    "        \n",
    "        ky = j * shift\n",
    "        if ky >= 0:\n",
    "            iy1, iy2 = 0, nw - ky\n",
    "        else:\n",
    "            iy1, iy2 = -ky, nw\n",
    "        jy1, jy2 = iy1 + ky, iy2 + ky\n",
    "        \n",
    "        augdata = np.zeros((n, nh, nw, 1))\n",
    "        augdata[:, ix1:ix2, iy1:iy2, :] = data[:n, jx1:jx2, jy1:jy2, :]\n",
    "        \n",
    "        augy = label[:n]\n",
    "    \n",
    "        data = np.concatenate((data, augdata), axis=0)\n",
    "        label = np.hstack((label, augy))   "
   ]
  },
  {
   "cell_type": "code",
   "execution_count": 52,
   "metadata": {},
   "outputs": [
    {
     "name": "stdout",
     "output_type": "stream",
     "text": [
      "(85344, 24, 24, 1)\n",
      "(85344, 24, 24, 1) (85344,)\n",
      "[0 0 0 ... 4 4 4]\n",
      "-2\n",
      "-1\n",
      "0\n",
      "1\n",
      "2\n"
     ]
    }
   ],
   "source": [
    "print(data.shape)\n",
    "print(data.shape, label.shape)\n",
    "print(label)\n",
    "for i in range(-2, 3):\n",
    "    print(i)"
   ]
  },
  {
   "cell_type": "code",
   "execution_count": 53,
   "metadata": {},
   "outputs": [
    {
     "name": "stdout",
     "output_type": "stream",
     "text": [
      "0.0 1.0\n"
     ]
    }
   ],
   "source": [
    "print(np.min(data), np.max(data))\n",
    "\n",
    "samples = data\n",
    "(x_train, y_train),(x_test, y_test) = shuffleData(samples, label)"
   ]
  },
  {
   "cell_type": "markdown",
   "metadata": {},
   "source": [
    "## load handwrite digit dataset & merge ##"
   ]
  },
  {
   "cell_type": "code",
   "execution_count": 55,
   "metadata": {},
   "outputs": [],
   "source": [
    "from load_mnist import loadmnist\n",
    "(x1_train, y1_train),(x1_test, y1_test) = loadmnist()"
   ]
  },
  {
   "cell_type": "code",
   "execution_count": 56,
   "metadata": {},
   "outputs": [
    {
     "name": "stdout",
     "output_type": "stream",
     "text": [
      "(68275, 24, 24, 1) (68275,)\n",
      "(24465, 28, 28) (24465,)\n"
     ]
    }
   ],
   "source": [
    "print(x_train.shape, y_train.shape)\n",
    "print(x1_train.shape, y1_train.shape)"
   ]
  },
  {
   "cell_type": "code",
   "execution_count": 58,
   "metadata": {},
   "outputs": [],
   "source": [
    "label_train = y_train.copy()\n",
    "y_train[label_train == 4] = 3\n",
    "\n",
    "label_test = y_test.copy()\n",
    "y_test[label_test == 4] = 3"
   ]
  },
  {
   "cell_type": "code",
   "execution_count": 60,
   "metadata": {},
   "outputs": [
    {
     "data": {
      "image/png": "[encoded data removed]",
      "text/plain": [
       "<Figure size 720x576 with 50 Axes>"
      ]
     },
     "metadata": {},
     "output_type": "display_data"
    }
   ],
   "source": [
    "import random\n",
    "import matplotlib.pyplot as plt\n",
    "\n",
    "fm = 5\n",
    "fn = 10\n",
    "\n",
    "plt.figure(figsize=(10, 8))\n",
    "\n",
    "for i in range(fm):\n",
    "    for j in range(fn):\n",
    "\n",
    "        k = random.randint(0, len(y_test))\n",
    "        pic = np.reshape(x_test[k, :, :, :], (nh, nh))\n",
    "\n",
    "        plt.subplot(fm, fn, i * fn + j + 1)\n",
    "        plt.imshow(pic, cmap='gray')\n",
    "        plt.xlabel(label_test[k])\n",
    "    \n",
    "plt.show()"
   ]
  },
  {
   "cell_type": "markdown",
   "metadata": {},
   "source": [
    "## train a dnn model ##"
   ]
  },
  {
   "cell_type": "code",
   "execution_count": 102,
   "metadata": {},
   "outputs": [
    {
     "name": "stdout",
     "output_type": "stream",
     "text": [
      "Epoch 1/20\n",
      "68275/68275 [==============================] - 8s 117us/step - loss: 0.8591 - acc: 0.6456\n",
      "Epoch 2/20\n",
      "68275/68275 [==============================] - 2s 32us/step - loss: 0.5305 - acc: 0.8109\n",
      "Epoch 3/20\n",
      "68275/68275 [==============================] - 2s 32us/step - loss: 0.4598 - acc: 0.8386\n",
      "Epoch 4/20\n",
      "68275/68275 [==============================] - 2s 31us/step - loss: 0.4286 - acc: 0.8505\n",
      "Epoch 5/20\n",
      "68275/68275 [==============================] - 2s 32us/step - loss: 0.4080 - acc: 0.8588\n",
      "Epoch 6/20\n",
      "68275/68275 [==============================] - 2s 33us/step - loss: 0.3969 - acc: 0.8616\n",
      "Epoch 7/20\n",
      "68275/68275 [==============================] - 2s 32us/step - loss: 0.3854 - acc: 0.8665\n",
      "Epoch 8/20\n",
      "68275/68275 [==============================] - 2s 36us/step - loss: 0.3776 - acc: 0.8690\n",
      "Epoch 9/20\n",
      "68275/68275 [==============================] - 2s 33us/step - loss: 0.3713 - acc: 0.8703\n",
      "Epoch 10/20\n",
      "68275/68275 [==============================] - 2s 33us/step - loss: 0.3695 - acc: 0.8725\n",
      "Epoch 11/20\n",
      "68275/68275 [==============================] - 2s 34us/step - loss: 0.3607 - acc: 0.8738\n",
      "Epoch 12/20\n",
      "68275/68275 [==============================] - 2s 33us/step - loss: 0.3596 - acc: 0.8755\n",
      "Epoch 13/20\n",
      "68275/68275 [==============================] - 2s 32us/step - loss: 0.3584 - acc: 0.8746\n",
      "Epoch 14/20\n",
      "68275/68275 [==============================] - 3s 37us/step - loss: 0.3536 - acc: 0.8767\n",
      "Epoch 15/20\n",
      "68275/68275 [==============================] - 2s 33us/step - loss: 0.3488 - acc: 0.8794\n",
      "Epoch 16/20\n",
      "68275/68275 [==============================] - 2s 31us/step - loss: 0.3476 - acc: 0.8784\n",
      "Epoch 17/20\n",
      "68275/68275 [==============================] - 2s 32us/step - loss: 0.3417 - acc: 0.8822\n",
      "Epoch 18/20\n",
      "68275/68275 [==============================] - 2s 31us/step - loss: 0.3397 - acc: 0.8805\n",
      "Epoch 19/20\n",
      "68275/68275 [==============================] - 2s 32us/step - loss: 0.3386 - acc: 0.8816\n",
      "Epoch 20/20\n",
      "68275/68275 [==============================] - 2s 34us/step - loss: 0.3357 - acc: 0.8827\n",
      "17069/17069 [==============================] - 1s 52us/step\n"
     ]
    }
   ],
   "source": [
    "model = tf.keras.models.Sequential([\n",
    "  tf.keras.layers.Flatten(),\n",
    "  tf.keras.layers.Dense(16, activation=tf.nn.relu),\n",
    "  tf.keras.layers.Dropout(0.2),\n",
    "  tf.keras.layers.Dense(16, activation=tf.nn.relu),\n",
    "  tf.keras.layers.Dropout(0.2),\n",
    "  tf.keras.layers.Dense(4, activation=tf.nn.softmax)\n",
    "])\n",
    "model.compile(optimizer='adam',\n",
    "              loss='sparse_categorical_crossentropy',\n",
    "              metrics=['accuracy'])\n",
    "\n",
    "model.fit(x_train, y_train, batch_size=64, epochs=20)\n",
    "model.evaluate(x_test, y_test)\n",
    "\n",
    "model.save('model.h5')"
   ]
  },
  {
   "cell_type": "code",
   "execution_count": 101,
   "metadata": {},
   "outputs": [
    {
     "name": "stdout",
     "output_type": "stream",
     "text": [
      "(68275, 24, 24, 1)\n"
     ]
    },
    {
     "ename": "ValueError",
     "evalue": "Error when checking input: expected input to have 5 dimensions, but got array with shape (68275, 24, 24, 1)",
     "output_type": "error",
     "traceback": [
      "\u001b[0;31m---------------------------------------------------------------------------\u001b[0m",
      "\u001b[0;31mValueError\u001b[0m                                Traceback (most recent call last)",
      "\u001b[0;32m<ipython-input-101-8dd2a4c2dda2>\u001b[0m in \u001b[0;36m<module>\u001b[0;34m()\u001b[0m\n\u001b[1;32m     14\u001b[0m \u001b[0mmodel\u001b[0m\u001b[0;34m.\u001b[0m\u001b[0mcompile\u001b[0m\u001b[0;34m(\u001b[0m\u001b[0mloss\u001b[0m\u001b[0;34m=\u001b[0m\u001b[0;34m'sparse_categorical_crossentropy'\u001b[0m\u001b[0;34m,\u001b[0m \u001b[0moptimizer\u001b[0m\u001b[0;34m=\u001b[0m\u001b[0;34m'adam'\u001b[0m\u001b[0;34m,\u001b[0m \u001b[0mmetrics\u001b[0m\u001b[0;34m=\u001b[0m\u001b[0;34m[\u001b[0m\u001b[0;34m'accuracy'\u001b[0m\u001b[0;34m]\u001b[0m\u001b[0;34m)\u001b[0m\u001b[0;34m\u001b[0m\u001b[0m\n\u001b[1;32m     15\u001b[0m \u001b[0;34m\u001b[0m\u001b[0m\n\u001b[0;32m---> 16\u001b[0;31m \u001b[0mmodel\u001b[0m\u001b[0;34m.\u001b[0m\u001b[0mfit\u001b[0m\u001b[0;34m(\u001b[0m\u001b[0mx_train\u001b[0m\u001b[0;34m,\u001b[0m \u001b[0my_train\u001b[0m\u001b[0;34m,\u001b[0m \u001b[0mbatch_size\u001b[0m\u001b[0;34m=\u001b[0m\u001b[0;36m64\u001b[0m\u001b[0;34m,\u001b[0m \u001b[0mepochs\u001b[0m\u001b[0;34m=\u001b[0m\u001b[0;36m1\u001b[0m\u001b[0;34m)\u001b[0m\u001b[0;34m\u001b[0m\u001b[0m\n\u001b[0m\u001b[1;32m     17\u001b[0m \u001b[0mmodel\u001b[0m\u001b[0;34m.\u001b[0m\u001b[0mevaluate\u001b[0m\u001b[0;34m(\u001b[0m\u001b[0mx_test\u001b[0m\u001b[0;34m,\u001b[0m \u001b[0my_test\u001b[0m\u001b[0;34m)\u001b[0m\u001b[0;34m\u001b[0m\u001b[0m\n\u001b[1;32m     18\u001b[0m \u001b[0;34m\u001b[0m\u001b[0m\n",
      "\u001b[0;32m~/anaconda2/envs/py3/lib/python3.6/site-packages/keras/engine/training.py\u001b[0m in \u001b[0;36mfit\u001b[0;34m(self, x, y, batch_size, epochs, verbose, callbacks, validation_split, validation_data, shuffle, class_weight, sample_weight, initial_epoch, steps_per_epoch, validation_steps, **kwargs)\u001b[0m\n\u001b[1;32m    953\u001b[0m             \u001b[0msample_weight\u001b[0m\u001b[0;34m=\u001b[0m\u001b[0msample_weight\u001b[0m\u001b[0;34m,\u001b[0m\u001b[0;34m\u001b[0m\u001b[0m\n\u001b[1;32m    954\u001b[0m             \u001b[0mclass_weight\u001b[0m\u001b[0;34m=\u001b[0m\u001b[0mclass_weight\u001b[0m\u001b[0;34m,\u001b[0m\u001b[0;34m\u001b[0m\u001b[0m\n\u001b[0;32m--> 955\u001b[0;31m             batch_size=batch_size)\n\u001b[0m\u001b[1;32m    956\u001b[0m         \u001b[0;31m# Prepare validation data.\u001b[0m\u001b[0;34m\u001b[0m\u001b[0;34m\u001b[0m\u001b[0m\n\u001b[1;32m    957\u001b[0m         \u001b[0mdo_validation\u001b[0m \u001b[0;34m=\u001b[0m \u001b[0;32mFalse\u001b[0m\u001b[0;34m\u001b[0m\u001b[0m\n",
      "\u001b[0;32m~/anaconda2/envs/py3/lib/python3.6/site-packages/keras/engine/training.py\u001b[0m in \u001b[0;36m_standardize_user_data\u001b[0;34m(self, x, y, sample_weight, class_weight, check_array_lengths, batch_size)\u001b[0m\n\u001b[1;32m    752\u001b[0m             \u001b[0mfeed_input_shapes\u001b[0m\u001b[0;34m,\u001b[0m\u001b[0;34m\u001b[0m\u001b[0m\n\u001b[1;32m    753\u001b[0m             \u001b[0mcheck_batch_axis\u001b[0m\u001b[0;34m=\u001b[0m\u001b[0;32mFalse\u001b[0m\u001b[0;34m,\u001b[0m  \u001b[0;31m# Don't enforce the batch size.\u001b[0m\u001b[0;34m\u001b[0m\u001b[0m\n\u001b[0;32m--> 754\u001b[0;31m             exception_prefix='input')\n\u001b[0m\u001b[1;32m    755\u001b[0m \u001b[0;34m\u001b[0m\u001b[0m\n\u001b[1;32m    756\u001b[0m         \u001b[0;32mif\u001b[0m \u001b[0my\u001b[0m \u001b[0;32mis\u001b[0m \u001b[0;32mnot\u001b[0m \u001b[0;32mNone\u001b[0m\u001b[0;34m:\u001b[0m\u001b[0;34m\u001b[0m\u001b[0m\n",
      "\u001b[0;32m~/anaconda2/envs/py3/lib/python3.6/site-packages/keras/engine/training_utils.py\u001b[0m in \u001b[0;36mstandardize_input_data\u001b[0;34m(data, names, shapes, check_batch_axis, exception_prefix)\u001b[0m\n\u001b[1;32m    124\u001b[0m                         \u001b[0;34m': expected '\u001b[0m \u001b[0;34m+\u001b[0m \u001b[0mnames\u001b[0m\u001b[0;34m[\u001b[0m\u001b[0mi\u001b[0m\u001b[0;34m]\u001b[0m \u001b[0;34m+\u001b[0m \u001b[0;34m' to have '\u001b[0m \u001b[0;34m+\u001b[0m\u001b[0;34m\u001b[0m\u001b[0m\n\u001b[1;32m    125\u001b[0m                         \u001b[0mstr\u001b[0m\u001b[0;34m(\u001b[0m\u001b[0mlen\u001b[0m\u001b[0;34m(\u001b[0m\u001b[0mshape\u001b[0m\u001b[0;34m)\u001b[0m\u001b[0;34m)\u001b[0m \u001b[0;34m+\u001b[0m \u001b[0;34m' dimensions, but got array '\u001b[0m\u001b[0;34m\u001b[0m\u001b[0m\n\u001b[0;32m--> 126\u001b[0;31m                         'with shape ' + str(data_shape))\n\u001b[0m\u001b[1;32m    127\u001b[0m                 \u001b[0;32mif\u001b[0m \u001b[0;32mnot\u001b[0m \u001b[0mcheck_batch_axis\u001b[0m\u001b[0;34m:\u001b[0m\u001b[0;34m\u001b[0m\u001b[0m\n\u001b[1;32m    128\u001b[0m                     \u001b[0mdata_shape\u001b[0m \u001b[0;34m=\u001b[0m \u001b[0mdata_shape\u001b[0m\u001b[0;34m[\u001b[0m\u001b[0;36m1\u001b[0m\u001b[0;34m:\u001b[0m\u001b[0;34m]\u001b[0m\u001b[0;34m\u001b[0m\u001b[0m\n",
      "\u001b[0;31mValueError\u001b[0m: Error when checking input: expected input to have 5 dimensions, but got array with shape (68275, 24, 24, 1)"
     ]
    }
   ],
   "source": [
    "from keras.models import Model\n",
    "from keras.layers import Input, Dense, Flatten, Dropout\n",
    "\n",
    "print(x_train.shape)\n",
    "\n",
    "input_tensor = Input(shape=(128, nh, nw, 1), name=\"input\")\n",
    "x = Flatten()(input_tensor)\n",
    "x = Dense(16, activation=tf.nn.relu)(x)\n",
    "x = Dropout(0.2)(x)\n",
    "x = Dense(16, activation=tf.nn.relu)(x)\n",
    "x = Dropout(0.2)(x)\n",
    "x = Dense(4, activation=tf.nn.softmax)(x)\n",
    "model = Model(inputs=input_tensor, outputs=x)\n",
    "model.compile(loss='sparse_categorical_crossentropy', optimizer='adam', metrics=['accuracy'])\n",
    "\n",
    "model.fit(x_train, y_train, batch_size=64, epochs=1)\n",
    "model.evaluate(x_test, y_test)\n",
    "\n",
    "model.save('model.h5')"
   ]
  },
  {
   "cell_type": "markdown",
   "metadata": {},
   "source": [
    "## train a CNN model ##"
   ]
  },
  {
   "cell_type": "code",
   "execution_count": 74,
   "metadata": {},
   "outputs": [
    {
     "name": "stdout",
     "output_type": "stream",
     "text": [
      "Epoch 1/5\n",
      "68275/68275 [==============================] - 20s 298us/step - loss: 0.3378 - acc: 0.8908\n",
      "Epoch 2/5\n",
      "68275/68275 [==============================] - 21s 303us/step - loss: 0.1462 - acc: 0.9551\n",
      "Epoch 3/5\n",
      "68275/68275 [==============================] - 20s 292us/step - loss: 0.1004 - acc: 0.9680\n",
      "Epoch 4/5\n",
      "68275/68275 [==============================] - 20s 287us/step - loss: 0.0768 - acc: 0.9748\n",
      "Epoch 5/5\n",
      "68275/68275 [==============================] - 19s 284us/step - loss: 0.0596 - acc: 0.9806\n",
      "17069/17069 [==============================] - 2s 96us/step\n"
     ]
    },
    {
     "data": {
      "text/plain": [
       "[0.09059876371697757, 0.970062686742047]"
      ]
     },
     "execution_count": 74,
     "metadata": {},
     "output_type": "execute_result"
    }
   ],
   "source": [
    "model_c = tf.keras.models.Sequential([\n",
    "  tf.keras.layers.Conv2D(filters=8, kernel_size=(3, 3), strides=(1, 1), activation='relu', input_shape=(24, 24, 1), padding='same'),\n",
    "  tf.keras.layers.Conv2D(filters=16, kernel_size=(3, 3), strides=(1, 1), activation='relu', padding='same'),\n",
    "  #tf.keras.layers.Conv2D(filters=64, kernel_size=(3, 3), strides=(1, 1), activation='relu', padding='same'),\n",
    "  #tf.keras.layers.Dropout(0.2),\n",
    "  tf.keras.layers.Flatten(),\n",
    "  tf.keras.layers.Dense(4, activation=tf.nn.softmax)\n",
    "])\n",
    "model_c.compile(optimizer='adam',\n",
    "              loss='sparse_categorical_crossentropy',\n",
    "              metrics=['accuracy'])\n",
    "\n",
    "model_c.fit(x_train, y_train, epochs=5)\n",
    "model_c.evaluate(x_test, y_test)\n",
    "model_c.save('model_c.h5')"
   ]
  },
  {
   "cell_type": "code",
   "execution_count": 114,
   "metadata": {},
   "outputs": [
    {
     "name": "stdout",
     "output_type": "stream",
     "text": [
      "0.0 1.0\n"
     ]
    }
   ],
   "source": [
    "print(np.min(x_test), np.max(x_test))"
   ]
  },
  {
   "cell_type": "markdown",
   "metadata": {},
   "source": [
    "# TEST DATA #\n",
    "collect from small vehicle"
   ]
  },
  {
   "cell_type": "code",
   "execution_count": 64,
   "metadata": {},
   "outputs": [
    {
     "name": "stderr",
     "output_type": "stream",
     "text": [
      "/Users/wuyan/anaconda2/envs/py3/lib/python3.6/site-packages/skimage/transform/_warps.py:105: UserWarning: The default mode, 'constant', will be changed to 'reflect' in skimage 0.15.\n",
      "  warn(\"The default mode, 'constant', will be changed to 'reflect' in \"\n",
      "/Users/wuyan/anaconda2/envs/py3/lib/python3.6/site-packages/skimage/transform/_warps.py:110: UserWarning: Anti-aliasing will be enabled by default in skimage 0.15 to avoid aliasing artifacts when down-sampling images.\n",
      "  warn(\"Anti-aliasing will be enabled by default in skimage 0.15 to \"\n"
     ]
    }
   ],
   "source": [
    "gc = 127\n",
    "nh = 24\n",
    "nw = 32\n",
    "\n",
    "samples = load_image(\"./test\", nh, nw)\n",
    "n = len(samples)\n",
    "\n",
    "x_real = preprocess(samples, 4, 127)\n",
    "x_real = np.reshape(x_real, (n, nh, nh, 1))\n",
    "y_real = [1, 1, 1, 1, 3, 0, 1, 2]"
   ]
  },
  {
   "cell_type": "markdown",
   "metadata": {},
   "source": [
    "## Predict with DNN model##"
   ]
  },
  {
   "cell_type": "code",
   "execution_count": 103,
   "metadata": {},
   "outputs": [
    {
     "name": "stdout",
     "output_type": "stream",
     "text": [
      "8/8 [==============================] - 0s 245us/step\n",
      "[1.0180444717407227, 0.875]\n",
      "[1 1 1 0 4 0 1 2]\n"
     ]
    }
   ],
   "source": [
    "print(model.evaluate(x_real, y_real))\n",
    "\n",
    "y_pred = model.predict(x_real).argmax(1)\n",
    "y_label = y_pred\n",
    "y_label[y_pred == 3] = 4\n",
    "print(y_pred)"
   ]
  },
  {
   "cell_type": "code",
   "execution_count": 104,
   "metadata": {},
   "outputs": [
    {
     "data": {
      "image/png": "[encoded data removed]",
      "text/plain": [
       "<Figure size 432x288 with 8 Axes>"
      ]
     },
     "metadata": {},
     "output_type": "display_data"
    }
   ],
   "source": [
    "for i in range(n):\n",
    "    plt.subplot(1, n, i + 1)\n",
    "\n",
    "    pic = np.reshape(x_real[i,:,:,:], (nh, nh))\n",
    "    \n",
    "    plt.imshow(pic, cmap='gray')\n",
    "    plt.xlabel(str(y_label[i]))\n",
    "    \n",
    "plt.show()"
   ]
  },
  {
   "cell_type": "markdown",
   "metadata": {},
   "source": [
    "## Predict with CNN model ##"
   ]
  },
  {
   "cell_type": "code",
   "execution_count": 77,
   "metadata": {},
   "outputs": [
    {
     "name": "stdout",
     "output_type": "stream",
     "text": [
      "8/8 [==============================] - 0s 277us/step\n",
      "[2.36567759513855, 0.75]\n",
      "[1 1 0 0 4 0 1 2]\n"
     ]
    }
   ],
   "source": [
    "print(model_c.evaluate(x_real, y_real))\n",
    "\n",
    "y_pred = model_c.predict(x_real).argmax(1)\n",
    "y_label = y_pred\n",
    "y_label[y_pred == 3] = 4\n",
    "print(y_pred)"
   ]
  },
  {
   "cell_type": "code",
   "execution_count": 78,
   "metadata": {},
   "outputs": [
    {
     "data": {
      "image/png": "[encoded data removed]",
      "text/plain": [
       "<Figure size 432x288 with 8 Axes>"
      ]
     },
     "metadata": {},
     "output_type": "display_data"
    }
   ],
   "source": [
    "for i in range(n):\n",
    "    plt.subplot(1, n, i + 1)\n",
    "\n",
    "    pic = np.reshape(x_real[i,:,:,:], (nh, nh))\n",
    "    \n",
    "    plt.imshow(pic, cmap='gray')\n",
    "    plt.xlabel(str(y_label[i]))\n",
    "    \n",
    "plt.show()"
   ]
  },
  {
   "cell_type": "code",
   "execution_count": 174,
   "metadata": {},
   "outputs": [
    {
     "name": "stdout",
     "output_type": "stream",
     "text": [
      "3251 813\n"
     ]
    }
   ],
   "source": [
    "print(len(y_train), len(y_test))"
   ]
  },
  {
   "cell_type": "markdown",
   "metadata": {},
   "source": [
    "## model ouput##\n",
    "\n",
    "Java 调用Keras和tensorflow模型\n",
    "https://www.jianshu.com/p/0016a34c82c8"
   ]
  },
  {
   "cell_type": "code",
   "execution_count": 79,
   "metadata": {},
   "outputs": [],
   "source": [
    "def freeze_session(session, keep_var_names=None, output_names=None, clear_devices=True):\n",
    "    \"\"\"\n",
    "    :param session: 需要转换的tensorflow的session\n",
    "    :param keep_var_names:需要保留的variable，默认全部转换constant\n",
    "    :param output_names:output的名字\n",
    "    :param clear_devices:是否移除设备指令以获得更好的可移植性\n",
    "    :return:\n",
    "    \"\"\"\n",
    "    from tensorflow.python.framework.graph_util import convert_variables_to_constants\n",
    "    graph = session.graph\n",
    "    with graph.as_default():\n",
    "        freeze_var_names = list(set(v.op.name for v in tf.global_variables()).difference(keep_var_names or []))\n",
    "        output_names = output_names or []\n",
    "        # 如果指定了output名字，则复制一个新的Tensor，并且以指定的名字命名\n",
    "        if len(output_names) > 0:\n",
    "            for i in range(output_names):\n",
    "                # 当前graph中复制一个新的Tensor，指定名字\n",
    "                tf.identity(model.model.outputs[i], name=output_names[i])\n",
    "        output_names += [v.op.name for v in tf.global_variables()]\n",
    "        input_graph_def = graph.as_graph_def()\n",
    "        if clear_devices:\n",
    "            for node in input_graph_def.node:\n",
    "                node.device = \"\"\n",
    "        frozen_graph = convert_variables_to_constants(session, input_graph_def,\n",
    "                                                      output_names, freeze_var_names)\n",
    "        return frozen_graph"
   ]
  },
  {
   "cell_type": "code",
   "execution_count": 110,
   "metadata": {
    "scrolled": true
   },
   "outputs": [
    {
     "ename": "ValueError",
     "evalue": "You are trying to load a weight file containing 3 layers into a model with 0 layers.",
     "output_type": "error",
     "traceback": [
      "\u001b[0;31m---------------------------------------------------------------------------\u001b[0m",
      "\u001b[0;31mValueError\u001b[0m                                Traceback (most recent call last)",
      "\u001b[0;32m<ipython-input-110-038da6bc0b8b>\u001b[0m in \u001b[0;36m<module>\u001b[0;34m()\u001b[0m\n\u001b[1;32m     18\u001b[0m \u001b[0;34m\u001b[0m\u001b[0m\n\u001b[1;32m     19\u001b[0m \u001b[0;31m#model.load_model(\"model.h5\")\u001b[0m\u001b[0;34m\u001b[0m\u001b[0;34m\u001b[0m\u001b[0m\n\u001b[0;32m---> 20\u001b[0;31m \u001b[0mmodel\u001b[0m \u001b[0;34m=\u001b[0m \u001b[0mload_model\u001b[0m\u001b[0;34m(\u001b[0m\u001b[0;34m'model.h5'\u001b[0m\u001b[0;34m)\u001b[0m\u001b[0;34m\u001b[0m\u001b[0m\n\u001b[0m\u001b[1;32m     21\u001b[0m \u001b[0;34m\u001b[0m\u001b[0m\n\u001b[1;32m     22\u001b[0m \u001b[0mprint\u001b[0m\u001b[0;34m(\u001b[0m\u001b[0mmodel\u001b[0m\u001b[0;34m.\u001b[0m\u001b[0minput\u001b[0m\u001b[0;34m.\u001b[0m\u001b[0mop\u001b[0m\u001b[0;34m.\u001b[0m\u001b[0mname\u001b[0m\u001b[0;34m)\u001b[0m\u001b[0;34m\u001b[0m\u001b[0m\n",
      "\u001b[0;32m~/anaconda2/envs/py3/lib/python3.6/site-packages/keras/engine/saving.py\u001b[0m in \u001b[0;36mload_model\u001b[0;34m(filepath, custom_objects, compile)\u001b[0m\n\u001b[1;32m    262\u001b[0m \u001b[0;34m\u001b[0m\u001b[0m\n\u001b[1;32m    263\u001b[0m         \u001b[0;31m# set weights\u001b[0m\u001b[0;34m\u001b[0m\u001b[0;34m\u001b[0m\u001b[0m\n\u001b[0;32m--> 264\u001b[0;31m         \u001b[0mload_weights_from_hdf5_group\u001b[0m\u001b[0;34m(\u001b[0m\u001b[0mf\u001b[0m\u001b[0;34m[\u001b[0m\u001b[0;34m'model_weights'\u001b[0m\u001b[0;34m]\u001b[0m\u001b[0;34m,\u001b[0m \u001b[0mmodel\u001b[0m\u001b[0;34m.\u001b[0m\u001b[0mlayers\u001b[0m\u001b[0;34m)\u001b[0m\u001b[0;34m\u001b[0m\u001b[0m\n\u001b[0m\u001b[1;32m    265\u001b[0m \u001b[0;34m\u001b[0m\u001b[0m\n\u001b[1;32m    266\u001b[0m         \u001b[0;32mif\u001b[0m \u001b[0mcompile\u001b[0m\u001b[0;34m:\u001b[0m\u001b[0;34m\u001b[0m\u001b[0m\n",
      "\u001b[0;32m~/anaconda2/envs/py3/lib/python3.6/site-packages/keras/engine/saving.py\u001b[0m in \u001b[0;36mload_weights_from_hdf5_group\u001b[0;34m(f, layers, reshape)\u001b[0m\n\u001b[1;32m    899\u001b[0m                          \u001b[0;34m'containing '\u001b[0m \u001b[0;34m+\u001b[0m \u001b[0mstr\u001b[0m\u001b[0;34m(\u001b[0m\u001b[0mlen\u001b[0m\u001b[0;34m(\u001b[0m\u001b[0mlayer_names\u001b[0m\u001b[0;34m)\u001b[0m\u001b[0;34m)\u001b[0m \u001b[0;34m+\u001b[0m\u001b[0;34m\u001b[0m\u001b[0m\n\u001b[1;32m    900\u001b[0m                          \u001b[0;34m' layers into a model with '\u001b[0m \u001b[0;34m+\u001b[0m\u001b[0;34m\u001b[0m\u001b[0m\n\u001b[0;32m--> 901\u001b[0;31m                          str(len(filtered_layers)) + ' layers.')\n\u001b[0m\u001b[1;32m    902\u001b[0m \u001b[0;34m\u001b[0m\u001b[0m\n\u001b[1;32m    903\u001b[0m     \u001b[0;31m# We batch weight value assignments in a single backend call\u001b[0m\u001b[0;34m\u001b[0m\u001b[0;34m\u001b[0m\u001b[0m\n",
      "\u001b[0;31mValueError\u001b[0m: You are trying to load a weight file containing 3 layers into a model with 0 layers."
     ]
    }
   ],
   "source": [
    "from keras import backend as K\n",
    "from keras.models import load_model\n",
    "import tensorflow as tf\n",
    "\n",
    "# del model\n",
    "\n",
    "model = tf.keras.models.Sequential([\n",
    "  tf.keras.layers.Flatten(),\n",
    "  tf.keras.layers.Dense(16, activation=tf.nn.relu),\n",
    "  tf.keras.layers.Dropout(0.2),\n",
    "  tf.keras.layers.Dense(16, activation=tf.nn.relu),\n",
    "  tf.keras.layers.Dropout(0.2),\n",
    "  tf.keras.layers.Dense(4, activation=tf.nn.softmax)\n",
    "])\n",
    "model.compile(optimizer='adam',\n",
    "              loss='sparse_categorical_crossentropy',\n",
    "              metrics=['accuracy'])\n",
    "\n",
    "#model.load_model(\"model.h5\")\n",
    "model = load_model('model.h5')\n",
    "\n",
    "print(model.input.op.name)\n",
    "print(model.output.op.name)\n",
    "\n",
    "# 自定义output_names\n",
    "frozen_graph = freeze_session(K.get_session(), output_names=[\"output\"])\n",
    "tf.train.write_graph(frozen_graph, \"./\", \"model.pb\", as_text=False)\n",
    "\n",
    "### 输出：\n",
    "# input\n",
    "# output_softmax/Softmax\n",
    "# 如果不自定义output_name，则生成的pb模型的output_name为output_softmax/Softmax，如果自定义则以自定义名为output_name"
   ]
  },
  {
   "cell_type": "code",
   "execution_count": null,
   "metadata": {},
   "outputs": [],
   "source": []
  }
 ],
 "metadata": {
  "kernelspec": {
   "display_name": "Python 3",
   "language": "python",
   "name": "python3"
  },
  "language_info": {
   "codemirror_mode": {
    "name": "ipython",
    "version": 3
   },
   "file_extension": ".py",
   "mimetype": "text/x-python",
   "name": "python",
   "nbconvert_exporter": "python",
   "pygments_lexer": "ipython3",
   "version": "3.6.3"
  }
 },
 "nbformat": 4,
 "nbformat_minor": 2
}
