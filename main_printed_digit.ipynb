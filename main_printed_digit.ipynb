{
 "cells": [
  {
   "cell_type": "code",
   "execution_count": 3,
   "metadata": {},
   "outputs": [],
   "source": [
    "from helper import *\n",
    "import tensorflow as tf\n",
    "import matplotlib.pyplot as plt\n",
    "import os\n",
    "import random\n",
    "\n",
    "imgDir = '../../data/EnglishFnt/'\n",
    "\n",
    "def shuffleData(X, y):\n",
    "    indices = np.arange(X.shape[0])\n",
    "    np.random.shuffle(indices)\n",
    "    X = X[indices,:,:,:]\n",
    "    y = y[indices]\n",
    "    sep = int(0.8 * len(X))\n",
    "    x_train = X[:sep,:,:,:]\n",
    "    y_train = y[:sep]\n",
    "    x_test = X[sep:,:,:]\n",
    "    y_test = y[sep:]\n",
    "    return (x_train, y_train), (x_test, y_test)\n",
    "\n",
    "def gray2binary(gray, threshold):\n",
    "    bw = gray\n",
    "    idx1 = gray <= threshold\n",
    "    idx2 = gray >= threshold\n",
    "    bw[idx1] = 255\n",
    "    bw[idx2] = 0\n",
    "    return bw\n",
    "\n",
    "def one_hot_encode(x, size):\n",
    "    y = np.zeros((len(x), size))\n",
    "    for i in range(len(x)):\n",
    "        k = x[i]\n",
    "        y[i][k] = 1\n",
    "    return y\n",
    "\n",
    "def batchData(features, labels, batch_size):\n",
    "    for start in range(0, len(features), batch_size):\n",
    "        end = min(start + batch_size, len(features))\n",
    "        yield features[start:end], labels[start:end]"
   ]
  },
  {
   "cell_type": "code",
   "execution_count": 4,
   "metadata": {},
   "outputs": [
    {
     "name": "stderr",
     "output_type": "stream",
     "text": [
      "/Users/wuyan/anaconda2/envs/py3/lib/python3.6/site-packages/skimage/transform/_warps.py:105: UserWarning: The default mode, 'constant', will be changed to 'reflect' in skimage 0.15.\n",
      "  warn(\"The default mode, 'constant', will be changed to 'reflect' in \"\n",
      "/Users/wuyan/anaconda2/envs/py3/lib/python3.6/site-packages/skimage/transform/_warps.py:110: UserWarning: Anti-aliasing will be enabled by default in skimage 0.15 to avoid aliasing artifacts when down-sampling images.\n",
      "  warn(\"Anti-aliasing will be enabled by default in skimage 0.15 to \"\n"
     ]
    },
    {
     "name": "stdout",
     "output_type": "stream",
     "text": [
      "(1016, 24, 24)\n",
      "(1016, 24, 24)\n",
      "(1016, 24, 24)\n",
      "(1016, 24, 24)\n"
     ]
    }
   ],
   "source": [
    "# original size\n",
    "# nh = 128, nw = 128\n",
    "nh = 24 \n",
    "nw = 24\n",
    "\n",
    "data = []\n",
    "label = []\n",
    "\n",
    "for s in os.listdir(imgDir):\n",
    "    if s[6:].isdigit():\n",
    "        y = int(s[6:])\n",
    "    else:\n",
    "        continue\n",
    "    if (y == 4 or y > 5):\n",
    "        continue\n",
    "    subdir = os.path.join(imgDir, s)\n",
    "    samples = load_image_png(subdir, nh, nw)\n",
    "    t = np.ones(len(samples), dtype=np.uint8) * (y - 1)\n",
    "    data.append(samples)\n",
    "    label.append(t)\n",
    "    print(samples.shape)\n",
    "    \n",
    "data = np.array(data)\n",
    "data = np.reshape(data, (1016 * 4, nh, nw, 1))\n",
    "\n",
    "label = np.array(label)\n",
    "label = np.reshape(label, 1016 * 4)\n",
    "\n",
    "data = gray2binary(data, 127)\n",
    "data = data / 255.0"
   ]
  },
  {
   "cell_type": "code",
   "execution_count": 5,
   "metadata": {},
   "outputs": [],
   "source": [
    "# 数据集扩充\n",
    "# 平移\n",
    "nh = 24\n",
    "nw = 24\n",
    "shift = 4\n",
    "\n",
    "n = len(data)\n",
    "\n",
    "for i in range(-2, 3):\n",
    "    kx = i * shift\n",
    "    if kx >= 0:\n",
    "        ix1, ix2 = 0, nh - kx\n",
    "    else:\n",
    "        ix1, ix2 = -kx, nh\n",
    "    jx1, jx2 = ix1 + kx, ix2 + kx\n",
    "        \n",
    "    for j in range(-2, 3):\n",
    "        if i == 0 and j == 0:\n",
    "            continue\n",
    "        #if abs(i) == 2 and abs(j) == 2:\n",
    "        #    continue\n",
    "        \n",
    "        ky = j * shift\n",
    "        if ky >= 0:\n",
    "            iy1, iy2 = 0, nw - ky\n",
    "        else:\n",
    "            iy1, iy2 = -ky, nw\n",
    "        jy1, jy2 = iy1 + ky, iy2 + ky\n",
    "        \n",
    "        augdata = np.zeros((n, nh, nw, 1))\n",
    "        augdata[:, ix1:ix2, iy1:iy2, :] = data[:n, jx1:jx2, jy1:jy2, :]\n",
    "        \n",
    "        augy = label[:n]\n",
    "    \n",
    "        data = np.concatenate((data, augdata), axis=0)\n",
    "        label = np.hstack((label, augy))   "
   ]
  },
  {
   "cell_type": "code",
   "execution_count": 6,
   "metadata": {},
   "outputs": [],
   "source": [
    "samples = data\n",
    "(x_train, y_train),(x_test, y_test) = shuffleData(samples, label)"
   ]
  },
  {
   "cell_type": "code",
   "execution_count": 7,
   "metadata": {},
   "outputs": [],
   "source": [
    "label_train = y_train.copy()\n",
    "y_train[label_train == 4] = 3\n",
    "\n",
    "label_test = y_test.copy()\n",
    "y_test[label_test == 4] = 3"
   ]
  },
  {
   "cell_type": "code",
   "execution_count": 8,
   "metadata": {},
   "outputs": [
    {
     "data": {
      "image/png": "[encoded data removed]",
      "text/plain": [
       "<Figure size 720x576 with 50 Axes>"
      ]
     },
     "metadata": {},
     "output_type": "display_data"
    }
   ],
   "source": [
    "fm = 5\n",
    "fn = 10\n",
    "\n",
    "plt.figure(figsize=(10, 8))\n",
    "\n",
    "for i in range(fm):\n",
    "    for j in range(fn):\n",
    "\n",
    "        k = random.randint(0, len(y_test))\n",
    "        pic = np.reshape(x_test[k, :, :, :], (nh, nh))\n",
    "\n",
    "        plt.subplot(fm, fn, i * fn + j + 1)\n",
    "        plt.imshow(pic, cmap='gray')\n",
    "        plt.xlabel(label_test[k])\n",
    "    \n",
    "plt.show()"
   ]
  },
  {
   "cell_type": "code",
   "execution_count": 29,
   "metadata": {},
   "outputs": [
    {
     "name": "stdout",
     "output_type": "stream",
     "text": [
      "0/60 test accuracy 0.5970472693443298\n",
      "5/60 test accuracy 0.8692421317100525\n",
      "10/60 test accuracy 0.8988189101219177\n",
      "15/60 test accuracy 0.9104330539703369\n",
      "20/60 test accuracy 0.9183562994003296\n",
      "25/60 test accuracy 0.9244094491004944\n",
      "30/60 test accuracy 0.9283464550971985\n",
      "35/60 test accuracy 0.9316437244415283\n",
      "40/60 test accuracy 0.9339566826820374\n",
      "45/60 test accuracy 0.936515748500824\n",
      "50/60 test accuracy 0.9381889700889587\n",
      "55/60 test accuracy 0.9399606585502625\n",
      "INFO:tensorflow:No assets to save.\n",
      "INFO:tensorflow:No assets to write.\n",
      "INFO:tensorflow:SavedModel written to: b'./model_pb/saved_model.pb'\n"
     ]
    }
   ],
   "source": [
    "import tensorflow as tf\n",
    "\n",
    "# Parameters\n",
    "learning_rate = 0.0001\n",
    "keep_prob = 0.2\n",
    "num_steps = 60\n",
    "batch_size = 128\n",
    "display_step = 100\n",
    "\n",
    "# Network Parameters\n",
    "n_hidden_1 = 16 # 1st layer number of neurons\n",
    "n_hidden_2 = 32 # 2nd layer number of neurons\n",
    "num_input = 24 * 24 # MNIST data input (img shape: 28*28)\n",
    "num_classes = 4 # MNIST total classes (0-9 digits)\n",
    "\n",
    "\n",
    "# Define the neural network\n",
    "def neural_net(input_tensor, keep_prob):\n",
    "    x = tf.layers.flatten(input_tensor)\n",
    "\n",
    "    layer_1 = tf.layers.dense(x, n_hidden_1, activation=tf.nn.relu)\n",
    "    layer_1 = tf.layers.dropout(layer_1, keep_prob)\n",
    " \n",
    "    layer_2 = tf.layers.dense(layer_1, n_hidden_2, activation=tf.nn.relu)\n",
    "    layer_2 = tf.layers.dropout(layer_2, keep_prob)\n",
    "\n",
    "    out_layer = tf.layers.dense(layer_2, num_classes)\n",
    "    out_layer = tf.nn.softmax(out_layer)\n",
    "    return out_layer\n",
    "\n",
    "\n",
    "\n",
    "def cnn_net(input_tensor, keep_prob) :\n",
    "    #x = tf.layers.Input(shape=[-1, 24, 24, 1])\n",
    "    #x = tf.layers.Input(tensor=input_tensor)\n",
    "    x = tf.reshape(input_tensor, (-1, 24, 24, 1))\n",
    "    y = tf.layers.conv2d(x, filters=16, kernel_size=3, activation=tf.nn.relu)\n",
    "    y = tf.layers.conv2d(y, filters=32, kernel_size=3, activation=tf.nn.relu)\n",
    "    y = tf.layers.dense(y, num_classes)\n",
    "    out_layer = tf.nn.softmax(y)\n",
    "    return out_layer\n",
    "\n",
    "\n",
    "\n",
    "x_train = np.reshape(x_train, (len(x_train), 24, 24))\n",
    "x_test = np.reshape(x_test, (len(x_test), 24, 24))\n",
    "y_train_ = one_hot_encode(y_train, num_classes)\n",
    "y_test_ = one_hot_encode(y_test, num_classes)\n",
    "\n",
    "\n",
    "\n",
    "x = tf.placeholder(tf.float32, shape=[None, 24, 24], name='x')\n",
    "y = tf.placeholder(tf.float32, shape=[None, num_classes], name='y')\n",
    "#y = tf.placeholder(tf.float32, shape=(None))\n",
    "\n",
    "p = tf.placeholder(tf.float32, name='p')\n",
    "\n",
    "\n",
    "logit = neural_net(x, p)\n",
    "#logit = cnn_net(x, p)\n",
    "\n",
    "logit = tf.identity(logit, name='logit')\n",
    "cross_entropy = -tf.reduce_sum(y * tf.log(logit))\n",
    "\n",
    "\n",
    "train_step = tf.train.AdamOptimizer(learning_rate).minimize(cross_entropy)\n",
    "\n",
    "correct_prediction = tf.equal(tf.argmax(logit, 1), tf.argmax(y, 1))\n",
    "#correct_prediction = tf.equal(tf.argmax(logit, 1), y)\n",
    "accuracy = tf.reduce_mean(tf.cast(correct_prediction, \"float\"), name='accuracy')\n",
    "\n",
    "\n",
    "with tf.Session() as sess:\n",
    "    sess.run(tf.global_variables_initializer())\n",
    "\n",
    "    k = 0\n",
    "    for i in range(num_steps):\n",
    "\n",
    "        for x_batch, y_batch in batchData(x_train, y_train_, batch_size):\n",
    "            \n",
    "            k += 1\n",
    "            sess.run(train_step, feed_dict={x: x_batch, y: y_batch, p: keep_prob})\n",
    "         \n",
    "            #train_accuracy = accuracy.eval(feed_dict={x: x_batch, y: y_batch, p: keep_prob})    \n",
    "            #print \"step %d, training accuracy %g\"%(i, train_accuracy)\n",
    "\n",
    "        if i%5 == 0:\n",
    "            print(\"{}/{} test accuracy {}\".format(i, num_steps, accuracy.eval(feed_dict={x: x_test, y: y_test_, p: 1.0})))\n",
    "        \n",
    "    save_path = './model/test'\n",
    "    saver = tf.train.Saver()\n",
    "    saver.save(sess, save_path)\n",
    "    \n",
    "    save_pb_path = './model_pb'\n",
    "    builder = tf.saved_model.builder.SavedModelBuilder(save_pb_path)\n",
    "    builder.add_meta_graph_and_variables(sess, [\"mytag\"])\n",
    "    builder.save()"
   ]
  },
  {
   "cell_type": "code",
   "execution_count": null,
   "metadata": {},
   "outputs": [],
   "source": []
  },
  {
   "cell_type": "code",
   "execution_count": 42,
   "metadata": {},
   "outputs": [
    {
     "name": "stderr",
     "output_type": "stream",
     "text": [
      "/Users/wuyan/anaconda2/envs/py3/lib/python3.6/site-packages/skimage/transform/_warps.py:105: UserWarning: The default mode, 'constant', will be changed to 'reflect' in skimage 0.15.\n",
      "  warn(\"The default mode, 'constant', will be changed to 'reflect' in \"\n",
      "/Users/wuyan/anaconda2/envs/py3/lib/python3.6/site-packages/skimage/transform/_warps.py:110: UserWarning: Anti-aliasing will be enabled by default in skimage 0.15 to avoid aliasing artifacts when down-sampling images.\n",
      "  warn(\"Anti-aliasing will be enabled by default in skimage 0.15 to \"\n"
     ]
    },
    {
     "name": "stdout",
     "output_type": "stream",
     "text": [
      "(1, 24, 32, 3)\n",
      "(16, 24, 32, 3)\n",
      "(1, 24, 32, 3)\n",
      "(5, 24, 32, 3)\n"
     ]
    }
   ],
   "source": [
    "gc = 127\n",
    "nh = 24\n",
    "nw = 32\n",
    "\n",
    "samples, label = load_image_x(\"./test\", nh, nw)\n",
    "\n",
    "n = len(label)\n",
    "\n",
    "x_real = preprocess(samples, 4, 100)\n",
    "x_real = np.reshape(x_real, (n, nh, nh, 1))\n",
    "y_real = label\n",
    "y_real[label == 4] = 3"
   ]
  },
  {
   "cell_type": "code",
   "execution_count": 35,
   "metadata": {},
   "outputs": [
    {
     "name": "stdout",
     "output_type": "stream",
     "text": [
      "./model/test\n",
      "INFO:tensorflow:Restoring parameters from ./model/test\n",
      "Test Accuracy = 0.652\n",
      "[[9.9941611e-01 3.3387223e-05 3.0539005e-09 5.5057177e-04]\n",
      " [4.7293442e-01 4.8846905e-06 4.4075117e-01 8.6309545e-02]\n",
      " [9.7088957e-01 6.4332020e-03 2.1765100e-02 9.1213628e-04]\n",
      " [1.1726889e-03 9.9843913e-01 2.1087223e-04 1.7717994e-04]\n",
      " [3.9315615e-02 8.0427432e-01 1.5640053e-01 9.5262085e-06]\n",
      " [9.9995649e-01 3.3802415e-08 4.3537584e-05 1.2503674e-21]\n",
      " [2.5999177e-06 9.9994314e-01 5.4184897e-05 8.8873636e-10]\n",
      " [3.8053902e-06 9.9996912e-01 2.7043165e-05 7.4068836e-09]\n",
      " [9.2771100e-03 3.4374557e-06 9.8215497e-01 8.5645923e-03]\n",
      " [8.5750152e-13 9.9999845e-01 5.1088959e-12 1.4996027e-06]\n",
      " [4.1153483e-04 9.9909317e-01 4.4128447e-04 5.4015993e-05]\n",
      " [8.6919141e-01 4.5151923e-02 8.5656740e-02 1.4318489e-12]\n",
      " [2.6068118e-01 7.3568785e-01 1.9488190e-03 1.6820648e-03]\n",
      " [9.2168511e-06 9.9995565e-01 2.0864476e-05 1.4340643e-05]\n",
      " [3.4332156e-04 9.9963272e-01 1.8564708e-05 5.3697786e-06]\n",
      " [1.5583927e-02 1.2185275e-02 9.7223085e-01 2.1871716e-09]\n",
      " [2.5409175e-04 9.9957448e-01 3.5321296e-05 1.3624373e-04]\n",
      " [4.3999538e-04 8.9648273e-03 9.9054646e-01 4.8710041e-05]\n",
      " [4.4104278e-01 1.0895175e-02 1.7564897e-05 5.4804450e-01]\n",
      " [9.1020060e-01 4.8988212e-02 1.3533930e-05 4.0797610e-02]\n",
      " [7.3259252e-01 1.0642707e-02 1.7266260e-02 2.3949844e-01]\n",
      " [4.2661955e-04 9.2610455e-05 1.1935814e-05 9.9946886e-01]\n",
      " [2.1035309e-01 3.7342727e-03 2.4943176e-06 7.8591013e-01]]\n"
     ]
    }
   ],
   "source": [
    "x_real_ = np.reshape(x_real, (len(x_real), 24, 24))\n",
    "y_real_ = one_hot_encode(y_real, num_classes)\n",
    "\n",
    "print(save_model)\n",
    "save_model = save_path\n",
    "saver = tf.train.Saver()\n",
    "\n",
    "with tf.Session() as sess:\n",
    "\n",
    "    saver.restore(sess, save_model)\n",
    "    y_pred = sess.run(logit, feed_dict={x: x_real_, p: 1.0})\n",
    "    test_accuracy = sess.run(accuracy, feed_dict={x: x_real_, y: y_real_, p: 1.0})\n",
    "    print(\"Test Accuracy = {:.3f}\".format(test_accuracy))\n",
    "    print(y_pred)"
   ]
  },
  {
   "cell_type": "code",
   "execution_count": 34,
   "metadata": {},
   "outputs": [
    {
     "name": "stdout",
     "output_type": "stream",
     "text": [
      "INFO:tensorflow:Restoring parameters from ./model/test\n"
     ]
    },
    {
     "ename": "InvalidArgumentError",
     "evalue": "You must feed a value for placeholder tensor 'x_2' with dtype float and shape [?,24,24]\n\t [[Node: x_2 = Placeholder[dtype=DT_FLOAT, shape=[?,24,24], _device=\"/job:localhost/replica:0/task:0/device:CPU:0\"]()]]\n\nCaused by op 'x_2', defined at:\n  File \"/Users/wuyan/anaconda2/envs/py3/lib/python3.6/runpy.py\", line 193, in _run_module_as_main\n    \"__main__\", mod_spec)\n  File \"/Users/wuyan/anaconda2/envs/py3/lib/python3.6/runpy.py\", line 85, in _run_code\n    exec(code, run_globals)\n  File \"/Users/wuyan/anaconda2/envs/py3/lib/python3.6/site-packages/ipykernel_launcher.py\", line 16, in <module>\n    app.launch_new_instance()\n  File \"/Users/wuyan/anaconda2/envs/py3/lib/python3.6/site-packages/traitlets/config/application.py\", line 658, in launch_instance\n    app.start()\n  File \"/Users/wuyan/anaconda2/envs/py3/lib/python3.6/site-packages/ipykernel/kernelapp.py\", line 477, in start\n    ioloop.IOLoop.instance().start()\n  File \"/Users/wuyan/anaconda2/envs/py3/lib/python3.6/site-packages/zmq/eventloop/ioloop.py\", line 177, in start\n    super(ZMQIOLoop, self).start()\n  File \"/Users/wuyan/anaconda2/envs/py3/lib/python3.6/site-packages/tornado/ioloop.py\", line 888, in start\n    handler_func(fd_obj, events)\n  File \"/Users/wuyan/anaconda2/envs/py3/lib/python3.6/site-packages/tornado/stack_context.py\", line 277, in null_wrapper\n    return fn(*args, **kwargs)\n  File \"/Users/wuyan/anaconda2/envs/py3/lib/python3.6/site-packages/zmq/eventloop/zmqstream.py\", line 440, in _handle_events\n    self._handle_recv()\n  File \"/Users/wuyan/anaconda2/envs/py3/lib/python3.6/site-packages/zmq/eventloop/zmqstream.py\", line 472, in _handle_recv\n    self._run_callback(callback, msg)\n  File \"/Users/wuyan/anaconda2/envs/py3/lib/python3.6/site-packages/zmq/eventloop/zmqstream.py\", line 414, in _run_callback\n    callback(*args, **kwargs)\n  File \"/Users/wuyan/anaconda2/envs/py3/lib/python3.6/site-packages/tornado/stack_context.py\", line 277, in null_wrapper\n    return fn(*args, **kwargs)\n  File \"/Users/wuyan/anaconda2/envs/py3/lib/python3.6/site-packages/ipykernel/kernelbase.py\", line 283, in dispatcher\n    return self.dispatch_shell(stream, msg)\n  File \"/Users/wuyan/anaconda2/envs/py3/lib/python3.6/site-packages/ipykernel/kernelbase.py\", line 235, in dispatch_shell\n    handler(stream, idents, msg)\n  File \"/Users/wuyan/anaconda2/envs/py3/lib/python3.6/site-packages/ipykernel/kernelbase.py\", line 399, in execute_request\n    user_expressions, allow_stdin)\n  File \"/Users/wuyan/anaconda2/envs/py3/lib/python3.6/site-packages/ipykernel/ipkernel.py\", line 196, in do_execute\n    res = shell.run_cell(code, store_history=store_history, silent=silent)\n  File \"/Users/wuyan/anaconda2/envs/py3/lib/python3.6/site-packages/ipykernel/zmqshell.py\", line 533, in run_cell\n    return super(ZMQInteractiveShell, self).run_cell(*args, **kwargs)\n  File \"/Users/wuyan/anaconda2/envs/py3/lib/python3.6/site-packages/IPython/core/interactiveshell.py\", line 2698, in run_cell\n    interactivity=interactivity, compiler=compiler, result=result)\n  File \"/Users/wuyan/anaconda2/envs/py3/lib/python3.6/site-packages/IPython/core/interactiveshell.py\", line 2802, in run_ast_nodes\n    if self.run_code(code, result):\n  File \"/Users/wuyan/anaconda2/envs/py3/lib/python3.6/site-packages/IPython/core/interactiveshell.py\", line 2862, in run_code\n    exec(code_obj, self.user_global_ns, self.user_ns)\n  File \"<ipython-input-34-af2bb13dbfb0>\", line 8, in <module>\n    loader = tf.train.import_meta_graph(save_model + '.meta')\n  File \"/Users/wuyan/anaconda2/envs/py3/lib/python3.6/site-packages/tensorflow/python/training/saver.py\", line 1955, in import_meta_graph\n    **kwargs)\n  File \"/Users/wuyan/anaconda2/envs/py3/lib/python3.6/site-packages/tensorflow/python/framework/meta_graph.py\", line 743, in import_scoped_meta_graph\n    producer_op_list=producer_op_list)\n  File \"/Users/wuyan/anaconda2/envs/py3/lib/python3.6/site-packages/tensorflow/python/util/deprecation.py\", line 432, in new_func\n    return func(*args, **kwargs)\n  File \"/Users/wuyan/anaconda2/envs/py3/lib/python3.6/site-packages/tensorflow/python/framework/importer.py\", line 513, in import_graph_def\n    _ProcessNewOps(graph)\n  File \"/Users/wuyan/anaconda2/envs/py3/lib/python3.6/site-packages/tensorflow/python/framework/importer.py\", line 303, in _ProcessNewOps\n    for new_op in graph._add_new_tf_operations(compute_devices=False):  # pylint: disable=protected-access\n  File \"/Users/wuyan/anaconda2/envs/py3/lib/python3.6/site-packages/tensorflow/python/framework/ops.py\", line 3540, in _add_new_tf_operations\n    for c_op in c_api_util.new_tf_operations(self)\n  File \"/Users/wuyan/anaconda2/envs/py3/lib/python3.6/site-packages/tensorflow/python/framework/ops.py\", line 3540, in <listcomp>\n    for c_op in c_api_util.new_tf_operations(self)\n  File \"/Users/wuyan/anaconda2/envs/py3/lib/python3.6/site-packages/tensorflow/python/framework/ops.py\", line 3428, in _create_op_from_tf_operation\n    ret = Operation(c_op, self)\n  File \"/Users/wuyan/anaconda2/envs/py3/lib/python3.6/site-packages/tensorflow/python/framework/ops.py\", line 1718, in __init__\n    self._traceback = self._graph._extract_stack()  # pylint: disable=protected-access\n\nInvalidArgumentError (see above for traceback): You must feed a value for placeholder tensor 'x_2' with dtype float and shape [?,24,24]\n\t [[Node: x_2 = Placeholder[dtype=DT_FLOAT, shape=[?,24,24], _device=\"/job:localhost/replica:0/task:0/device:CPU:0\"]()]]\n",
     "output_type": "error",
     "traceback": [
      "\u001b[0;31m---------------------------------------------------------------------------\u001b[0m",
      "\u001b[0;31mInvalidArgumentError\u001b[0m                      Traceback (most recent call last)",
      "\u001b[0;32m~/anaconda2/envs/py3/lib/python3.6/site-packages/tensorflow/python/client/session.py\u001b[0m in \u001b[0;36m_do_call\u001b[0;34m(self, fn, *args)\u001b[0m\n\u001b[1;32m   1321\u001b[0m     \u001b[0;32mtry\u001b[0m\u001b[0;34m:\u001b[0m\u001b[0;34m\u001b[0m\u001b[0m\n\u001b[0;32m-> 1322\u001b[0;31m       \u001b[0;32mreturn\u001b[0m \u001b[0mfn\u001b[0m\u001b[0;34m(\u001b[0m\u001b[0;34m*\u001b[0m\u001b[0margs\u001b[0m\u001b[0;34m)\u001b[0m\u001b[0;34m\u001b[0m\u001b[0m\n\u001b[0m\u001b[1;32m   1323\u001b[0m     \u001b[0;32mexcept\u001b[0m \u001b[0merrors\u001b[0m\u001b[0;34m.\u001b[0m\u001b[0mOpError\u001b[0m \u001b[0;32mas\u001b[0m \u001b[0me\u001b[0m\u001b[0;34m:\u001b[0m\u001b[0;34m\u001b[0m\u001b[0m\n",
      "\u001b[0;32m~/anaconda2/envs/py3/lib/python3.6/site-packages/tensorflow/python/client/session.py\u001b[0m in \u001b[0;36m_run_fn\u001b[0;34m(feed_dict, fetch_list, target_list, options, run_metadata)\u001b[0m\n\u001b[1;32m   1306\u001b[0m       return self._call_tf_sessionrun(\n\u001b[0;32m-> 1307\u001b[0;31m           options, feed_dict, fetch_list, target_list, run_metadata)\n\u001b[0m\u001b[1;32m   1308\u001b[0m \u001b[0;34m\u001b[0m\u001b[0m\n",
      "\u001b[0;32m~/anaconda2/envs/py3/lib/python3.6/site-packages/tensorflow/python/client/session.py\u001b[0m in \u001b[0;36m_call_tf_sessionrun\u001b[0;34m(self, options, feed_dict, fetch_list, target_list, run_metadata)\u001b[0m\n\u001b[1;32m   1408\u001b[0m           \u001b[0mself\u001b[0m\u001b[0;34m.\u001b[0m\u001b[0m_session\u001b[0m\u001b[0;34m,\u001b[0m \u001b[0moptions\u001b[0m\u001b[0;34m,\u001b[0m \u001b[0mfeed_dict\u001b[0m\u001b[0;34m,\u001b[0m \u001b[0mfetch_list\u001b[0m\u001b[0;34m,\u001b[0m \u001b[0mtarget_list\u001b[0m\u001b[0;34m,\u001b[0m\u001b[0;34m\u001b[0m\u001b[0m\n\u001b[0;32m-> 1409\u001b[0;31m           run_metadata)\n\u001b[0m\u001b[1;32m   1410\u001b[0m     \u001b[0;32melse\u001b[0m\u001b[0;34m:\u001b[0m\u001b[0;34m\u001b[0m\u001b[0m\n",
      "\u001b[0;31mInvalidArgumentError\u001b[0m: You must feed a value for placeholder tensor 'x_2' with dtype float and shape [?,24,24]\n\t [[Node: x_2 = Placeholder[dtype=DT_FLOAT, shape=[?,24,24], _device=\"/job:localhost/replica:0/task:0/device:CPU:0\"]()]]",
      "\nDuring handling of the above exception, another exception occurred:\n",
      "\u001b[0;31mInvalidArgumentError\u001b[0m                      Traceback (most recent call last)",
      "\u001b[0;32m<ipython-input-34-af2bb13dbfb0>\u001b[0m in \u001b[0;36m<module>\u001b[0;34m()\u001b[0m\n\u001b[1;32m     14\u001b[0m     \u001b[0mloaded_accuracy\u001b[0m \u001b[0;34m=\u001b[0m \u001b[0mloaded_graph\u001b[0m\u001b[0;34m.\u001b[0m\u001b[0mget_tensor_by_name\u001b[0m\u001b[0;34m(\u001b[0m\u001b[0;34m'accuracy:0'\u001b[0m\u001b[0;34m)\u001b[0m\u001b[0;34m\u001b[0m\u001b[0m\n\u001b[1;32m     15\u001b[0m \u001b[0;34m\u001b[0m\u001b[0m\n\u001b[0;32m---> 16\u001b[0;31m     \u001b[0my_pred\u001b[0m \u001b[0;34m=\u001b[0m \u001b[0msess\u001b[0m\u001b[0;34m.\u001b[0m\u001b[0mrun\u001b[0m\u001b[0;34m(\u001b[0m\u001b[0mloaded_logit\u001b[0m\u001b[0;34m,\u001b[0m \u001b[0mfeed_dict\u001b[0m\u001b[0;34m=\u001b[0m\u001b[0;34m{\u001b[0m\u001b[0mloaded_x\u001b[0m\u001b[0;34m:\u001b[0m \u001b[0mx_real_\u001b[0m\u001b[0;34m,\u001b[0m \u001b[0mloaded_p\u001b[0m\u001b[0;34m:\u001b[0m \u001b[0;36m1.0\u001b[0m\u001b[0;34m}\u001b[0m\u001b[0;34m)\u001b[0m\u001b[0;34m\u001b[0m\u001b[0m\n\u001b[0m\u001b[1;32m     17\u001b[0m     \u001b[0mtest_accuracy\u001b[0m \u001b[0;34m=\u001b[0m \u001b[0msess\u001b[0m\u001b[0;34m.\u001b[0m\u001b[0mrun\u001b[0m\u001b[0;34m(\u001b[0m\u001b[0mloaded_accuracy\u001b[0m\u001b[0;34m,\u001b[0m \u001b[0mfeed_dict\u001b[0m\u001b[0;34m=\u001b[0m\u001b[0;34m{\u001b[0m\u001b[0mloaded_x\u001b[0m\u001b[0;34m:\u001b[0m \u001b[0mx_real_\u001b[0m\u001b[0;34m,\u001b[0m \u001b[0mloaded_y\u001b[0m\u001b[0;34m:\u001b[0m \u001b[0my_real_\u001b[0m\u001b[0;34m,\u001b[0m \u001b[0mloaded_p\u001b[0m\u001b[0;34m:\u001b[0m \u001b[0;36m1.0\u001b[0m\u001b[0;34m}\u001b[0m\u001b[0;34m)\u001b[0m\u001b[0;34m\u001b[0m\u001b[0m\n\u001b[1;32m     18\u001b[0m     \u001b[0mprint\u001b[0m\u001b[0;34m(\u001b[0m\u001b[0;34m\"Test Accuracy = {:.3f}\"\u001b[0m\u001b[0;34m.\u001b[0m\u001b[0mformat\u001b[0m\u001b[0;34m(\u001b[0m\u001b[0mtest_accuracy\u001b[0m\u001b[0;34m)\u001b[0m\u001b[0;34m)\u001b[0m\u001b[0;34m\u001b[0m\u001b[0m\n",
      "\u001b[0;32m~/anaconda2/envs/py3/lib/python3.6/site-packages/tensorflow/python/client/session.py\u001b[0m in \u001b[0;36mrun\u001b[0;34m(self, fetches, feed_dict, options, run_metadata)\u001b[0m\n\u001b[1;32m    898\u001b[0m     \u001b[0;32mtry\u001b[0m\u001b[0;34m:\u001b[0m\u001b[0;34m\u001b[0m\u001b[0m\n\u001b[1;32m    899\u001b[0m       result = self._run(None, fetches, feed_dict, options_ptr,\n\u001b[0;32m--> 900\u001b[0;31m                          run_metadata_ptr)\n\u001b[0m\u001b[1;32m    901\u001b[0m       \u001b[0;32mif\u001b[0m \u001b[0mrun_metadata\u001b[0m\u001b[0;34m:\u001b[0m\u001b[0;34m\u001b[0m\u001b[0m\n\u001b[1;32m    902\u001b[0m         \u001b[0mproto_data\u001b[0m \u001b[0;34m=\u001b[0m \u001b[0mtf_session\u001b[0m\u001b[0;34m.\u001b[0m\u001b[0mTF_GetBuffer\u001b[0m\u001b[0;34m(\u001b[0m\u001b[0mrun_metadata_ptr\u001b[0m\u001b[0;34m)\u001b[0m\u001b[0;34m\u001b[0m\u001b[0m\n",
      "\u001b[0;32m~/anaconda2/envs/py3/lib/python3.6/site-packages/tensorflow/python/client/session.py\u001b[0m in \u001b[0;36m_run\u001b[0;34m(self, handle, fetches, feed_dict, options, run_metadata)\u001b[0m\n\u001b[1;32m   1133\u001b[0m     \u001b[0;32mif\u001b[0m \u001b[0mfinal_fetches\u001b[0m \u001b[0;32mor\u001b[0m \u001b[0mfinal_targets\u001b[0m \u001b[0;32mor\u001b[0m \u001b[0;34m(\u001b[0m\u001b[0mhandle\u001b[0m \u001b[0;32mand\u001b[0m \u001b[0mfeed_dict_tensor\u001b[0m\u001b[0;34m)\u001b[0m\u001b[0;34m:\u001b[0m\u001b[0;34m\u001b[0m\u001b[0m\n\u001b[1;32m   1134\u001b[0m       results = self._do_run(handle, final_targets, final_fetches,\n\u001b[0;32m-> 1135\u001b[0;31m                              feed_dict_tensor, options, run_metadata)\n\u001b[0m\u001b[1;32m   1136\u001b[0m     \u001b[0;32melse\u001b[0m\u001b[0;34m:\u001b[0m\u001b[0;34m\u001b[0m\u001b[0m\n\u001b[1;32m   1137\u001b[0m       \u001b[0mresults\u001b[0m \u001b[0;34m=\u001b[0m \u001b[0;34m[\u001b[0m\u001b[0;34m]\u001b[0m\u001b[0;34m\u001b[0m\u001b[0m\n",
      "\u001b[0;32m~/anaconda2/envs/py3/lib/python3.6/site-packages/tensorflow/python/client/session.py\u001b[0m in \u001b[0;36m_do_run\u001b[0;34m(self, handle, target_list, fetch_list, feed_dict, options, run_metadata)\u001b[0m\n\u001b[1;32m   1314\u001b[0m     \u001b[0;32mif\u001b[0m \u001b[0mhandle\u001b[0m \u001b[0;32mis\u001b[0m \u001b[0;32mNone\u001b[0m\u001b[0;34m:\u001b[0m\u001b[0;34m\u001b[0m\u001b[0m\n\u001b[1;32m   1315\u001b[0m       return self._do_call(_run_fn, feeds, fetches, targets, options,\n\u001b[0;32m-> 1316\u001b[0;31m                            run_metadata)\n\u001b[0m\u001b[1;32m   1317\u001b[0m     \u001b[0;32melse\u001b[0m\u001b[0;34m:\u001b[0m\u001b[0;34m\u001b[0m\u001b[0m\n\u001b[1;32m   1318\u001b[0m       \u001b[0;32mreturn\u001b[0m \u001b[0mself\u001b[0m\u001b[0;34m.\u001b[0m\u001b[0m_do_call\u001b[0m\u001b[0;34m(\u001b[0m\u001b[0m_prun_fn\u001b[0m\u001b[0;34m,\u001b[0m \u001b[0mhandle\u001b[0m\u001b[0;34m,\u001b[0m \u001b[0mfeeds\u001b[0m\u001b[0;34m,\u001b[0m \u001b[0mfetches\u001b[0m\u001b[0;34m)\u001b[0m\u001b[0;34m\u001b[0m\u001b[0m\n",
      "\u001b[0;32m~/anaconda2/envs/py3/lib/python3.6/site-packages/tensorflow/python/client/session.py\u001b[0m in \u001b[0;36m_do_call\u001b[0;34m(self, fn, *args)\u001b[0m\n\u001b[1;32m   1333\u001b[0m         \u001b[0;32mexcept\u001b[0m \u001b[0mKeyError\u001b[0m\u001b[0;34m:\u001b[0m\u001b[0;34m\u001b[0m\u001b[0m\n\u001b[1;32m   1334\u001b[0m           \u001b[0;32mpass\u001b[0m\u001b[0;34m\u001b[0m\u001b[0m\n\u001b[0;32m-> 1335\u001b[0;31m       \u001b[0;32mraise\u001b[0m \u001b[0mtype\u001b[0m\u001b[0;34m(\u001b[0m\u001b[0me\u001b[0m\u001b[0;34m)\u001b[0m\u001b[0;34m(\u001b[0m\u001b[0mnode_def\u001b[0m\u001b[0;34m,\u001b[0m \u001b[0mop\u001b[0m\u001b[0;34m,\u001b[0m \u001b[0mmessage\u001b[0m\u001b[0;34m)\u001b[0m\u001b[0;34m\u001b[0m\u001b[0m\n\u001b[0m\u001b[1;32m   1336\u001b[0m \u001b[0;34m\u001b[0m\u001b[0m\n\u001b[1;32m   1337\u001b[0m   \u001b[0;32mdef\u001b[0m \u001b[0m_extend_graph\u001b[0m\u001b[0;34m(\u001b[0m\u001b[0mself\u001b[0m\u001b[0;34m)\u001b[0m\u001b[0;34m:\u001b[0m\u001b[0;34m\u001b[0m\u001b[0m\n",
      "\u001b[0;31mInvalidArgumentError\u001b[0m: You must feed a value for placeholder tensor 'x_2' with dtype float and shape [?,24,24]\n\t [[Node: x_2 = Placeholder[dtype=DT_FLOAT, shape=[?,24,24], _device=\"/job:localhost/replica:0/task:0/device:CPU:0\"]()]]\n\nCaused by op 'x_2', defined at:\n  File \"/Users/wuyan/anaconda2/envs/py3/lib/python3.6/runpy.py\", line 193, in _run_module_as_main\n    \"__main__\", mod_spec)\n  File \"/Users/wuyan/anaconda2/envs/py3/lib/python3.6/runpy.py\", line 85, in _run_code\n    exec(code, run_globals)\n  File \"/Users/wuyan/anaconda2/envs/py3/lib/python3.6/site-packages/ipykernel_launcher.py\", line 16, in <module>\n    app.launch_new_instance()\n  File \"/Users/wuyan/anaconda2/envs/py3/lib/python3.6/site-packages/traitlets/config/application.py\", line 658, in launch_instance\n    app.start()\n  File \"/Users/wuyan/anaconda2/envs/py3/lib/python3.6/site-packages/ipykernel/kernelapp.py\", line 477, in start\n    ioloop.IOLoop.instance().start()\n  File \"/Users/wuyan/anaconda2/envs/py3/lib/python3.6/site-packages/zmq/eventloop/ioloop.py\", line 177, in start\n    super(ZMQIOLoop, self).start()\n  File \"/Users/wuyan/anaconda2/envs/py3/lib/python3.6/site-packages/tornado/ioloop.py\", line 888, in start\n    handler_func(fd_obj, events)\n  File \"/Users/wuyan/anaconda2/envs/py3/lib/python3.6/site-packages/tornado/stack_context.py\", line 277, in null_wrapper\n    return fn(*args, **kwargs)\n  File \"/Users/wuyan/anaconda2/envs/py3/lib/python3.6/site-packages/zmq/eventloop/zmqstream.py\", line 440, in _handle_events\n    self._handle_recv()\n  File \"/Users/wuyan/anaconda2/envs/py3/lib/python3.6/site-packages/zmq/eventloop/zmqstream.py\", line 472, in _handle_recv\n    self._run_callback(callback, msg)\n  File \"/Users/wuyan/anaconda2/envs/py3/lib/python3.6/site-packages/zmq/eventloop/zmqstream.py\", line 414, in _run_callback\n    callback(*args, **kwargs)\n  File \"/Users/wuyan/anaconda2/envs/py3/lib/python3.6/site-packages/tornado/stack_context.py\", line 277, in null_wrapper\n    return fn(*args, **kwargs)\n  File \"/Users/wuyan/anaconda2/envs/py3/lib/python3.6/site-packages/ipykernel/kernelbase.py\", line 283, in dispatcher\n    return self.dispatch_shell(stream, msg)\n  File \"/Users/wuyan/anaconda2/envs/py3/lib/python3.6/site-packages/ipykernel/kernelbase.py\", line 235, in dispatch_shell\n    handler(stream, idents, msg)\n  File \"/Users/wuyan/anaconda2/envs/py3/lib/python3.6/site-packages/ipykernel/kernelbase.py\", line 399, in execute_request\n    user_expressions, allow_stdin)\n  File \"/Users/wuyan/anaconda2/envs/py3/lib/python3.6/site-packages/ipykernel/ipkernel.py\", line 196, in do_execute\n    res = shell.run_cell(code, store_history=store_history, silent=silent)\n  File \"/Users/wuyan/anaconda2/envs/py3/lib/python3.6/site-packages/ipykernel/zmqshell.py\", line 533, in run_cell\n    return super(ZMQInteractiveShell, self).run_cell(*args, **kwargs)\n  File \"/Users/wuyan/anaconda2/envs/py3/lib/python3.6/site-packages/IPython/core/interactiveshell.py\", line 2698, in run_cell\n    interactivity=interactivity, compiler=compiler, result=result)\n  File \"/Users/wuyan/anaconda2/envs/py3/lib/python3.6/site-packages/IPython/core/interactiveshell.py\", line 2802, in run_ast_nodes\n    if self.run_code(code, result):\n  File \"/Users/wuyan/anaconda2/envs/py3/lib/python3.6/site-packages/IPython/core/interactiveshell.py\", line 2862, in run_code\n    exec(code_obj, self.user_global_ns, self.user_ns)\n  File \"<ipython-input-34-af2bb13dbfb0>\", line 8, in <module>\n    loader = tf.train.import_meta_graph(save_model + '.meta')\n  File \"/Users/wuyan/anaconda2/envs/py3/lib/python3.6/site-packages/tensorflow/python/training/saver.py\", line 1955, in import_meta_graph\n    **kwargs)\n  File \"/Users/wuyan/anaconda2/envs/py3/lib/python3.6/site-packages/tensorflow/python/framework/meta_graph.py\", line 743, in import_scoped_meta_graph\n    producer_op_list=producer_op_list)\n  File \"/Users/wuyan/anaconda2/envs/py3/lib/python3.6/site-packages/tensorflow/python/util/deprecation.py\", line 432, in new_func\n    return func(*args, **kwargs)\n  File \"/Users/wuyan/anaconda2/envs/py3/lib/python3.6/site-packages/tensorflow/python/framework/importer.py\", line 513, in import_graph_def\n    _ProcessNewOps(graph)\n  File \"/Users/wuyan/anaconda2/envs/py3/lib/python3.6/site-packages/tensorflow/python/framework/importer.py\", line 303, in _ProcessNewOps\n    for new_op in graph._add_new_tf_operations(compute_devices=False):  # pylint: disable=protected-access\n  File \"/Users/wuyan/anaconda2/envs/py3/lib/python3.6/site-packages/tensorflow/python/framework/ops.py\", line 3540, in _add_new_tf_operations\n    for c_op in c_api_util.new_tf_operations(self)\n  File \"/Users/wuyan/anaconda2/envs/py3/lib/python3.6/site-packages/tensorflow/python/framework/ops.py\", line 3540, in <listcomp>\n    for c_op in c_api_util.new_tf_operations(self)\n  File \"/Users/wuyan/anaconda2/envs/py3/lib/python3.6/site-packages/tensorflow/python/framework/ops.py\", line 3428, in _create_op_from_tf_operation\n    ret = Operation(c_op, self)\n  File \"/Users/wuyan/anaconda2/envs/py3/lib/python3.6/site-packages/tensorflow/python/framework/ops.py\", line 1718, in __init__\n    self._traceback = self._graph._extract_stack()  # pylint: disable=protected-access\n\nInvalidArgumentError (see above for traceback): You must feed a value for placeholder tensor 'x_2' with dtype float and shape [?,24,24]\n\t [[Node: x_2 = Placeholder[dtype=DT_FLOAT, shape=[?,24,24], _device=\"/job:localhost/replica:0/task:0/device:CPU:0\"]()]]\n"
     ]
    }
   ],
   "source": [
    "x_real_ = np.reshape(x_real, (len(x_real), 24, 24))\n",
    "y_real_ = one_hot_encode(y_real, num_classes)\n",
    "\n",
    "save_model = save_path\n",
    "\n",
    "loaded_graph = tf.Graph()\n",
    "with tf.Session(graph=loaded_graph) as sess:\n",
    "    loader = tf.train.import_meta_graph(save_model + '.meta')\n",
    "    loader.restore(sess, save_model)\n",
    "    loaded_x = loaded_graph.get_tensor_by_name('x:0')\n",
    "    loaded_y = loaded_graph.get_tensor_by_name('y:0')\n",
    "    loaded_p = loaded_graph.get_tensor_by_name('p:0')\n",
    "    loaded_logit = loaded_graph.get_tensor_by_name('logit:0')\n",
    "    loaded_accuracy = loaded_graph.get_tensor_by_name('accuracy:0')\n",
    "    \n",
    "    y_pred = sess.run(loaded_logit, feed_dict={loaded_x: x_real_, loaded_p: 1.0})\n",
    "    test_accuracy = sess.run(loaded_accuracy, feed_dict={loaded_x: x_real_, loaded_y: y_real_, loaded_p: 1.0})\n",
    "    print(\"Test Accuracy = {:.3f}\".format(test_accuracy))\n",
    "    print(y_pred)"
   ]
  },
  {
   "cell_type": "code",
   "execution_count": 36,
   "metadata": {},
   "outputs": [
    {
     "name": "stdout",
     "output_type": "stream",
     "text": [
      "[0 0 0 1 1 0 1 1 2 1 1 0 1 1 1 2 1 2 4 0 0 4 4]\n"
     ]
    },
    {
     "data": {
      "image/png": "[encoded data removed]",
      "text/plain": [
       "<Figure size 1080x216 with 23 Axes>"
      ]
     },
     "metadata": {},
     "output_type": "display_data"
    }
   ],
   "source": [
    "y_pred_i = y_pred.argmax(1)\n",
    "y_label = y_pred_i\n",
    "y_label[y_pred_i == 3] = 4\n",
    "print(y_pred_i)\n",
    "\n",
    "plt.figure(figsize=(15, 3))\n",
    "\n",
    "for i in range(n):\n",
    "    plt.subplot(1, n, i + 1)\n",
    "\n",
    "    pic = np.reshape(x_real[i,:,:,:], (nh, nh))\n",
    "    \n",
    "    plt.imshow(pic, cmap='gray')\n",
    "    plt.xlabel(str(y_label[i]))\n",
    "    \n",
    "plt.show()"
   ]
  },
  {
   "cell_type": "code",
   "execution_count": null,
   "metadata": {},
   "outputs": [],
   "source": []
  },
  {
   "cell_type": "markdown",
   "metadata": {},
   "source": [
    "## model restore ##"
   ]
  },
  {
   "cell_type": "code",
   "execution_count": 41,
   "metadata": {},
   "outputs": [
    {
     "name": "stdout",
     "output_type": "stream",
     "text": [
      "<class 'numpy.ndarray'>\n",
      "(23, 24, 24)\n",
      "INFO:tensorflow:Restoring parameters from b'./model_pb/variables/variables'\n"
     ]
    },
    {
     "ename": "InvalidArgumentError",
     "evalue": "You must feed a value for placeholder tensor 'x_2' with dtype float and shape [?,24,24]\n\t [[Node: x_2 = Placeholder[dtype=DT_FLOAT, shape=[?,24,24], _device=\"/job:localhost/replica:0/task:0/device:CPU:0\"]()]]\n\nCaused by op 'x_2', defined at:\n  File \"/Users/wuyan/anaconda2/envs/py3/lib/python3.6/runpy.py\", line 193, in _run_module_as_main\n    \"__main__\", mod_spec)\n  File \"/Users/wuyan/anaconda2/envs/py3/lib/python3.6/runpy.py\", line 85, in _run_code\n    exec(code, run_globals)\n  File \"/Users/wuyan/anaconda2/envs/py3/lib/python3.6/site-packages/ipykernel_launcher.py\", line 16, in <module>\n    app.launch_new_instance()\n  File \"/Users/wuyan/anaconda2/envs/py3/lib/python3.6/site-packages/traitlets/config/application.py\", line 658, in launch_instance\n    app.start()\n  File \"/Users/wuyan/anaconda2/envs/py3/lib/python3.6/site-packages/ipykernel/kernelapp.py\", line 477, in start\n    ioloop.IOLoop.instance().start()\n  File \"/Users/wuyan/anaconda2/envs/py3/lib/python3.6/site-packages/zmq/eventloop/ioloop.py\", line 177, in start\n    super(ZMQIOLoop, self).start()\n  File \"/Users/wuyan/anaconda2/envs/py3/lib/python3.6/site-packages/tornado/ioloop.py\", line 888, in start\n    handler_func(fd_obj, events)\n  File \"/Users/wuyan/anaconda2/envs/py3/lib/python3.6/site-packages/tornado/stack_context.py\", line 277, in null_wrapper\n    return fn(*args, **kwargs)\n  File \"/Users/wuyan/anaconda2/envs/py3/lib/python3.6/site-packages/zmq/eventloop/zmqstream.py\", line 440, in _handle_events\n    self._handle_recv()\n  File \"/Users/wuyan/anaconda2/envs/py3/lib/python3.6/site-packages/zmq/eventloop/zmqstream.py\", line 472, in _handle_recv\n    self._run_callback(callback, msg)\n  File \"/Users/wuyan/anaconda2/envs/py3/lib/python3.6/site-packages/zmq/eventloop/zmqstream.py\", line 414, in _run_callback\n    callback(*args, **kwargs)\n  File \"/Users/wuyan/anaconda2/envs/py3/lib/python3.6/site-packages/tornado/stack_context.py\", line 277, in null_wrapper\n    return fn(*args, **kwargs)\n  File \"/Users/wuyan/anaconda2/envs/py3/lib/python3.6/site-packages/ipykernel/kernelbase.py\", line 283, in dispatcher\n    return self.dispatch_shell(stream, msg)\n  File \"/Users/wuyan/anaconda2/envs/py3/lib/python3.6/site-packages/ipykernel/kernelbase.py\", line 235, in dispatch_shell\n    handler(stream, idents, msg)\n  File \"/Users/wuyan/anaconda2/envs/py3/lib/python3.6/site-packages/ipykernel/kernelbase.py\", line 399, in execute_request\n    user_expressions, allow_stdin)\n  File \"/Users/wuyan/anaconda2/envs/py3/lib/python3.6/site-packages/ipykernel/ipkernel.py\", line 196, in do_execute\n    res = shell.run_cell(code, store_history=store_history, silent=silent)\n  File \"/Users/wuyan/anaconda2/envs/py3/lib/python3.6/site-packages/ipykernel/zmqshell.py\", line 533, in run_cell\n    return super(ZMQInteractiveShell, self).run_cell(*args, **kwargs)\n  File \"/Users/wuyan/anaconda2/envs/py3/lib/python3.6/site-packages/IPython/core/interactiveshell.py\", line 2698, in run_cell\n    interactivity=interactivity, compiler=compiler, result=result)\n  File \"/Users/wuyan/anaconda2/envs/py3/lib/python3.6/site-packages/IPython/core/interactiveshell.py\", line 2802, in run_ast_nodes\n    if self.run_code(code, result):\n  File \"/Users/wuyan/anaconda2/envs/py3/lib/python3.6/site-packages/IPython/core/interactiveshell.py\", line 2862, in run_code\n    exec(code_obj, self.user_global_ns, self.user_ns)\n  File \"<ipython-input-29-63185676e26d>\", line 52, in <module>\n    x = tf.placeholder(tf.float32, shape=[None, 24, 24], name='x')\n  File \"/Users/wuyan/anaconda2/envs/py3/lib/python3.6/site-packages/tensorflow/python/ops/array_ops.py\", line 1808, in placeholder\n    return gen_array_ops.placeholder(dtype=dtype, shape=shape, name=name)\n  File \"/Users/wuyan/anaconda2/envs/py3/lib/python3.6/site-packages/tensorflow/python/ops/gen_array_ops.py\", line 4848, in placeholder\n    \"Placeholder\", dtype=dtype, shape=shape, name=name)\n  File \"/Users/wuyan/anaconda2/envs/py3/lib/python3.6/site-packages/tensorflow/python/framework/op_def_library.py\", line 787, in _apply_op_helper\n    op_def=op_def)\n  File \"/Users/wuyan/anaconda2/envs/py3/lib/python3.6/site-packages/tensorflow/python/framework/ops.py\", line 3392, in create_op\n    op_def=op_def)\n  File \"/Users/wuyan/anaconda2/envs/py3/lib/python3.6/site-packages/tensorflow/python/framework/ops.py\", line 1718, in __init__\n    self._traceback = self._graph._extract_stack()  # pylint: disable=protected-access\n\nInvalidArgumentError (see above for traceback): You must feed a value for placeholder tensor 'x_2' with dtype float and shape [?,24,24]\n\t [[Node: x_2 = Placeholder[dtype=DT_FLOAT, shape=[?,24,24], _device=\"/job:localhost/replica:0/task:0/device:CPU:0\"]()]]\n",
     "output_type": "error",
     "traceback": [
      "\u001b[0;31m---------------------------------------------------------------------------\u001b[0m",
      "\u001b[0;31mInvalidArgumentError\u001b[0m                      Traceback (most recent call last)",
      "\u001b[0;32m~/anaconda2/envs/py3/lib/python3.6/site-packages/tensorflow/python/client/session.py\u001b[0m in \u001b[0;36m_do_call\u001b[0;34m(self, fn, *args)\u001b[0m\n\u001b[1;32m   1321\u001b[0m     \u001b[0;32mtry\u001b[0m\u001b[0;34m:\u001b[0m\u001b[0;34m\u001b[0m\u001b[0m\n\u001b[0;32m-> 1322\u001b[0;31m       \u001b[0;32mreturn\u001b[0m \u001b[0mfn\u001b[0m\u001b[0;34m(\u001b[0m\u001b[0;34m*\u001b[0m\u001b[0margs\u001b[0m\u001b[0;34m)\u001b[0m\u001b[0;34m\u001b[0m\u001b[0m\n\u001b[0m\u001b[1;32m   1323\u001b[0m     \u001b[0;32mexcept\u001b[0m \u001b[0merrors\u001b[0m\u001b[0;34m.\u001b[0m\u001b[0mOpError\u001b[0m \u001b[0;32mas\u001b[0m \u001b[0me\u001b[0m\u001b[0;34m:\u001b[0m\u001b[0;34m\u001b[0m\u001b[0m\n",
      "\u001b[0;32m~/anaconda2/envs/py3/lib/python3.6/site-packages/tensorflow/python/client/session.py\u001b[0m in \u001b[0;36m_run_fn\u001b[0;34m(feed_dict, fetch_list, target_list, options, run_metadata)\u001b[0m\n\u001b[1;32m   1306\u001b[0m       return self._call_tf_sessionrun(\n\u001b[0;32m-> 1307\u001b[0;31m           options, feed_dict, fetch_list, target_list, run_metadata)\n\u001b[0m\u001b[1;32m   1308\u001b[0m \u001b[0;34m\u001b[0m\u001b[0m\n",
      "\u001b[0;32m~/anaconda2/envs/py3/lib/python3.6/site-packages/tensorflow/python/client/session.py\u001b[0m in \u001b[0;36m_call_tf_sessionrun\u001b[0;34m(self, options, feed_dict, fetch_list, target_list, run_metadata)\u001b[0m\n\u001b[1;32m   1408\u001b[0m           \u001b[0mself\u001b[0m\u001b[0;34m.\u001b[0m\u001b[0m_session\u001b[0m\u001b[0;34m,\u001b[0m \u001b[0moptions\u001b[0m\u001b[0;34m,\u001b[0m \u001b[0mfeed_dict\u001b[0m\u001b[0;34m,\u001b[0m \u001b[0mfetch_list\u001b[0m\u001b[0;34m,\u001b[0m \u001b[0mtarget_list\u001b[0m\u001b[0;34m,\u001b[0m\u001b[0;34m\u001b[0m\u001b[0m\n\u001b[0;32m-> 1409\u001b[0;31m           run_metadata)\n\u001b[0m\u001b[1;32m   1410\u001b[0m     \u001b[0;32melse\u001b[0m\u001b[0;34m:\u001b[0m\u001b[0;34m\u001b[0m\u001b[0m\n",
      "\u001b[0;31mInvalidArgumentError\u001b[0m: You must feed a value for placeholder tensor 'x_2' with dtype float and shape [?,24,24]\n\t [[Node: x_2 = Placeholder[dtype=DT_FLOAT, shape=[?,24,24], _device=\"/job:localhost/replica:0/task:0/device:CPU:0\"]()]]",
      "\nDuring handling of the above exception, another exception occurred:\n",
      "\u001b[0;31mInvalidArgumentError\u001b[0m                      Traceback (most recent call last)",
      "\u001b[0;32m<ipython-input-41-59fa69f30200>\u001b[0m in \u001b[0;36m<module>\u001b[0;34m()\u001b[0m\n\u001b[1;32m     21\u001b[0m \u001b[0mprint\u001b[0m\u001b[0;34m(\u001b[0m\u001b[0mtype\u001b[0m\u001b[0;34m(\u001b[0m\u001b[0mx_real_\u001b[0m\u001b[0;34m)\u001b[0m\u001b[0;34m)\u001b[0m\u001b[0;34m\u001b[0m\u001b[0m\n\u001b[1;32m     22\u001b[0m \u001b[0mprint\u001b[0m\u001b[0;34m(\u001b[0m\u001b[0mx_real_\u001b[0m\u001b[0;34m.\u001b[0m\u001b[0mshape\u001b[0m\u001b[0;34m)\u001b[0m\u001b[0;34m\u001b[0m\u001b[0m\n\u001b[0;32m---> 23\u001b[0;31m \u001b[0mrestore_model_pb\u001b[0m\u001b[0;34m(\u001b[0m\u001b[0;34m)\u001b[0m\u001b[0;34m\u001b[0m\u001b[0m\n\u001b[0m",
      "\u001b[0;32m<ipython-input-41-59fa69f30200>\u001b[0m in \u001b[0;36mrestore_model_pb\u001b[0;34m()\u001b[0m\n\u001b[1;32m     14\u001b[0m     \u001b[0;31m#op = sess.graph.get_tensor_by_name('accuracy:0')\u001b[0m\u001b[0;34m\u001b[0m\u001b[0;34m\u001b[0m\u001b[0m\n\u001b[1;32m     15\u001b[0m     \u001b[0;31m#print(sess.run(type(input_x)))\u001b[0m\u001b[0;34m\u001b[0m\u001b[0;34m\u001b[0m\u001b[0m\n\u001b[0;32m---> 16\u001b[0;31m     \u001b[0moutput\u001b[0m \u001b[0;34m=\u001b[0m \u001b[0msess\u001b[0m\u001b[0;34m.\u001b[0m\u001b[0mrun\u001b[0m\u001b[0;34m(\u001b[0m\u001b[0mop\u001b[0m\u001b[0;34m,\u001b[0m \u001b[0mfeed_dict\u001b[0m\u001b[0;34m=\u001b[0m\u001b[0;34m{\u001b[0m\u001b[0minput_x\u001b[0m\u001b[0;34m:\u001b[0m \u001b[0mx_real_\u001b[0m\u001b[0;34m,\u001b[0m \u001b[0minput_p\u001b[0m\u001b[0;34m:\u001b[0m \u001b[0;36m1.0\u001b[0m\u001b[0;34m}\u001b[0m\u001b[0;34m)\u001b[0m\u001b[0;34m\u001b[0m\u001b[0m\n\u001b[0m\u001b[1;32m     17\u001b[0m     \u001b[0;31m#output = sess.run(op, feed_dict={x: x_real_, y: y_real_, p: 1.0})\u001b[0m\u001b[0;34m\u001b[0m\u001b[0;34m\u001b[0m\u001b[0m\n\u001b[1;32m     18\u001b[0m     \u001b[0mprint\u001b[0m\u001b[0;34m(\u001b[0m\u001b[0moutput\u001b[0m\u001b[0;34m)\u001b[0m\u001b[0;34m\u001b[0m\u001b[0m\n",
      "\u001b[0;32m~/anaconda2/envs/py3/lib/python3.6/site-packages/tensorflow/python/client/session.py\u001b[0m in \u001b[0;36mrun\u001b[0;34m(self, fetches, feed_dict, options, run_metadata)\u001b[0m\n\u001b[1;32m    898\u001b[0m     \u001b[0;32mtry\u001b[0m\u001b[0;34m:\u001b[0m\u001b[0;34m\u001b[0m\u001b[0m\n\u001b[1;32m    899\u001b[0m       result = self._run(None, fetches, feed_dict, options_ptr,\n\u001b[0;32m--> 900\u001b[0;31m                          run_metadata_ptr)\n\u001b[0m\u001b[1;32m    901\u001b[0m       \u001b[0;32mif\u001b[0m \u001b[0mrun_metadata\u001b[0m\u001b[0;34m:\u001b[0m\u001b[0;34m\u001b[0m\u001b[0m\n\u001b[1;32m    902\u001b[0m         \u001b[0mproto_data\u001b[0m \u001b[0;34m=\u001b[0m \u001b[0mtf_session\u001b[0m\u001b[0;34m.\u001b[0m\u001b[0mTF_GetBuffer\u001b[0m\u001b[0;34m(\u001b[0m\u001b[0mrun_metadata_ptr\u001b[0m\u001b[0;34m)\u001b[0m\u001b[0;34m\u001b[0m\u001b[0m\n",
      "\u001b[0;32m~/anaconda2/envs/py3/lib/python3.6/site-packages/tensorflow/python/client/session.py\u001b[0m in \u001b[0;36m_run\u001b[0;34m(self, handle, fetches, feed_dict, options, run_metadata)\u001b[0m\n\u001b[1;32m   1133\u001b[0m     \u001b[0;32mif\u001b[0m \u001b[0mfinal_fetches\u001b[0m \u001b[0;32mor\u001b[0m \u001b[0mfinal_targets\u001b[0m \u001b[0;32mor\u001b[0m \u001b[0;34m(\u001b[0m\u001b[0mhandle\u001b[0m \u001b[0;32mand\u001b[0m \u001b[0mfeed_dict_tensor\u001b[0m\u001b[0;34m)\u001b[0m\u001b[0;34m:\u001b[0m\u001b[0;34m\u001b[0m\u001b[0m\n\u001b[1;32m   1134\u001b[0m       results = self._do_run(handle, final_targets, final_fetches,\n\u001b[0;32m-> 1135\u001b[0;31m                              feed_dict_tensor, options, run_metadata)\n\u001b[0m\u001b[1;32m   1136\u001b[0m     \u001b[0;32melse\u001b[0m\u001b[0;34m:\u001b[0m\u001b[0;34m\u001b[0m\u001b[0m\n\u001b[1;32m   1137\u001b[0m       \u001b[0mresults\u001b[0m \u001b[0;34m=\u001b[0m \u001b[0;34m[\u001b[0m\u001b[0;34m]\u001b[0m\u001b[0;34m\u001b[0m\u001b[0m\n",
      "\u001b[0;32m~/anaconda2/envs/py3/lib/python3.6/site-packages/tensorflow/python/client/session.py\u001b[0m in \u001b[0;36m_do_run\u001b[0;34m(self, handle, target_list, fetch_list, feed_dict, options, run_metadata)\u001b[0m\n\u001b[1;32m   1314\u001b[0m     \u001b[0;32mif\u001b[0m \u001b[0mhandle\u001b[0m \u001b[0;32mis\u001b[0m \u001b[0;32mNone\u001b[0m\u001b[0;34m:\u001b[0m\u001b[0;34m\u001b[0m\u001b[0m\n\u001b[1;32m   1315\u001b[0m       return self._do_call(_run_fn, feeds, fetches, targets, options,\n\u001b[0;32m-> 1316\u001b[0;31m                            run_metadata)\n\u001b[0m\u001b[1;32m   1317\u001b[0m     \u001b[0;32melse\u001b[0m\u001b[0;34m:\u001b[0m\u001b[0;34m\u001b[0m\u001b[0m\n\u001b[1;32m   1318\u001b[0m       \u001b[0;32mreturn\u001b[0m \u001b[0mself\u001b[0m\u001b[0;34m.\u001b[0m\u001b[0m_do_call\u001b[0m\u001b[0;34m(\u001b[0m\u001b[0m_prun_fn\u001b[0m\u001b[0;34m,\u001b[0m \u001b[0mhandle\u001b[0m\u001b[0;34m,\u001b[0m \u001b[0mfeeds\u001b[0m\u001b[0;34m,\u001b[0m \u001b[0mfetches\u001b[0m\u001b[0;34m)\u001b[0m\u001b[0;34m\u001b[0m\u001b[0m\n",
      "\u001b[0;32m~/anaconda2/envs/py3/lib/python3.6/site-packages/tensorflow/python/client/session.py\u001b[0m in \u001b[0;36m_do_call\u001b[0;34m(self, fn, *args)\u001b[0m\n\u001b[1;32m   1333\u001b[0m         \u001b[0;32mexcept\u001b[0m \u001b[0mKeyError\u001b[0m\u001b[0;34m:\u001b[0m\u001b[0;34m\u001b[0m\u001b[0m\n\u001b[1;32m   1334\u001b[0m           \u001b[0;32mpass\u001b[0m\u001b[0;34m\u001b[0m\u001b[0m\n\u001b[0;32m-> 1335\u001b[0;31m       \u001b[0;32mraise\u001b[0m \u001b[0mtype\u001b[0m\u001b[0;34m(\u001b[0m\u001b[0me\u001b[0m\u001b[0;34m)\u001b[0m\u001b[0;34m(\u001b[0m\u001b[0mnode_def\u001b[0m\u001b[0;34m,\u001b[0m \u001b[0mop\u001b[0m\u001b[0;34m,\u001b[0m \u001b[0mmessage\u001b[0m\u001b[0;34m)\u001b[0m\u001b[0;34m\u001b[0m\u001b[0m\n\u001b[0m\u001b[1;32m   1336\u001b[0m \u001b[0;34m\u001b[0m\u001b[0m\n\u001b[1;32m   1337\u001b[0m   \u001b[0;32mdef\u001b[0m \u001b[0m_extend_graph\u001b[0m\u001b[0;34m(\u001b[0m\u001b[0mself\u001b[0m\u001b[0;34m)\u001b[0m\u001b[0;34m:\u001b[0m\u001b[0;34m\u001b[0m\u001b[0m\n",
      "\u001b[0;31mInvalidArgumentError\u001b[0m: You must feed a value for placeholder tensor 'x_2' with dtype float and shape [?,24,24]\n\t [[Node: x_2 = Placeholder[dtype=DT_FLOAT, shape=[?,24,24], _device=\"/job:localhost/replica:0/task:0/device:CPU:0\"]()]]\n\nCaused by op 'x_2', defined at:\n  File \"/Users/wuyan/anaconda2/envs/py3/lib/python3.6/runpy.py\", line 193, in _run_module_as_main\n    \"__main__\", mod_spec)\n  File \"/Users/wuyan/anaconda2/envs/py3/lib/python3.6/runpy.py\", line 85, in _run_code\n    exec(code, run_globals)\n  File \"/Users/wuyan/anaconda2/envs/py3/lib/python3.6/site-packages/ipykernel_launcher.py\", line 16, in <module>\n    app.launch_new_instance()\n  File \"/Users/wuyan/anaconda2/envs/py3/lib/python3.6/site-packages/traitlets/config/application.py\", line 658, in launch_instance\n    app.start()\n  File \"/Users/wuyan/anaconda2/envs/py3/lib/python3.6/site-packages/ipykernel/kernelapp.py\", line 477, in start\n    ioloop.IOLoop.instance().start()\n  File \"/Users/wuyan/anaconda2/envs/py3/lib/python3.6/site-packages/zmq/eventloop/ioloop.py\", line 177, in start\n    super(ZMQIOLoop, self).start()\n  File \"/Users/wuyan/anaconda2/envs/py3/lib/python3.6/site-packages/tornado/ioloop.py\", line 888, in start\n    handler_func(fd_obj, events)\n  File \"/Users/wuyan/anaconda2/envs/py3/lib/python3.6/site-packages/tornado/stack_context.py\", line 277, in null_wrapper\n    return fn(*args, **kwargs)\n  File \"/Users/wuyan/anaconda2/envs/py3/lib/python3.6/site-packages/zmq/eventloop/zmqstream.py\", line 440, in _handle_events\n    self._handle_recv()\n  File \"/Users/wuyan/anaconda2/envs/py3/lib/python3.6/site-packages/zmq/eventloop/zmqstream.py\", line 472, in _handle_recv\n    self._run_callback(callback, msg)\n  File \"/Users/wuyan/anaconda2/envs/py3/lib/python3.6/site-packages/zmq/eventloop/zmqstream.py\", line 414, in _run_callback\n    callback(*args, **kwargs)\n  File \"/Users/wuyan/anaconda2/envs/py3/lib/python3.6/site-packages/tornado/stack_context.py\", line 277, in null_wrapper\n    return fn(*args, **kwargs)\n  File \"/Users/wuyan/anaconda2/envs/py3/lib/python3.6/site-packages/ipykernel/kernelbase.py\", line 283, in dispatcher\n    return self.dispatch_shell(stream, msg)\n  File \"/Users/wuyan/anaconda2/envs/py3/lib/python3.6/site-packages/ipykernel/kernelbase.py\", line 235, in dispatch_shell\n    handler(stream, idents, msg)\n  File \"/Users/wuyan/anaconda2/envs/py3/lib/python3.6/site-packages/ipykernel/kernelbase.py\", line 399, in execute_request\n    user_expressions, allow_stdin)\n  File \"/Users/wuyan/anaconda2/envs/py3/lib/python3.6/site-packages/ipykernel/ipkernel.py\", line 196, in do_execute\n    res = shell.run_cell(code, store_history=store_history, silent=silent)\n  File \"/Users/wuyan/anaconda2/envs/py3/lib/python3.6/site-packages/ipykernel/zmqshell.py\", line 533, in run_cell\n    return super(ZMQInteractiveShell, self).run_cell(*args, **kwargs)\n  File \"/Users/wuyan/anaconda2/envs/py3/lib/python3.6/site-packages/IPython/core/interactiveshell.py\", line 2698, in run_cell\n    interactivity=interactivity, compiler=compiler, result=result)\n  File \"/Users/wuyan/anaconda2/envs/py3/lib/python3.6/site-packages/IPython/core/interactiveshell.py\", line 2802, in run_ast_nodes\n    if self.run_code(code, result):\n  File \"/Users/wuyan/anaconda2/envs/py3/lib/python3.6/site-packages/IPython/core/interactiveshell.py\", line 2862, in run_code\n    exec(code_obj, self.user_global_ns, self.user_ns)\n  File \"<ipython-input-29-63185676e26d>\", line 52, in <module>\n    x = tf.placeholder(tf.float32, shape=[None, 24, 24], name='x')\n  File \"/Users/wuyan/anaconda2/envs/py3/lib/python3.6/site-packages/tensorflow/python/ops/array_ops.py\", line 1808, in placeholder\n    return gen_array_ops.placeholder(dtype=dtype, shape=shape, name=name)\n  File \"/Users/wuyan/anaconda2/envs/py3/lib/python3.6/site-packages/tensorflow/python/ops/gen_array_ops.py\", line 4848, in placeholder\n    \"Placeholder\", dtype=dtype, shape=shape, name=name)\n  File \"/Users/wuyan/anaconda2/envs/py3/lib/python3.6/site-packages/tensorflow/python/framework/op_def_library.py\", line 787, in _apply_op_helper\n    op_def=op_def)\n  File \"/Users/wuyan/anaconda2/envs/py3/lib/python3.6/site-packages/tensorflow/python/framework/ops.py\", line 3392, in create_op\n    op_def=op_def)\n  File \"/Users/wuyan/anaconda2/envs/py3/lib/python3.6/site-packages/tensorflow/python/framework/ops.py\", line 1718, in __init__\n    self._traceback = self._graph._extract_stack()  # pylint: disable=protected-access\n\nInvalidArgumentError (see above for traceback): You must feed a value for placeholder tensor 'x_2' with dtype float and shape [?,24,24]\n\t [[Node: x_2 = Placeholder[dtype=DT_FLOAT, shape=[?,24,24], _device=\"/job:localhost/replica:0/task:0/device:CPU:0\"]()]]\n"
     ]
    }
   ],
   "source": [
    "import tensorflow as tf\n",
    "import numpy as np\n",
    "import os\n",
    "from tensorflow.python.tools.inspect_checkpoint import print_tensors_in_checkpoint_file\n",
    " \n",
    "    \n",
    "# pb模型的恢复\n",
    "def restore_model_pb():\n",
    "    sess = tf.Session()\n",
    "    tf.saved_model.loader.load(sess, ['mytag'], save_pb_path)\n",
    "    input_x = sess.graph.get_tensor_by_name('x:0')\n",
    "    input_p = sess.graph.get_tensor_by_name('p:0')\n",
    "    op = sess.graph.get_tensor_by_name('logit:0')\n",
    "    #op = sess.graph.get_tensor_by_name('accuracy:0')\n",
    "    #print(sess.run(type(input_x)))\n",
    "    output = sess.run(op, feed_dict={input_x: x_real_, input_p: 1.0})\n",
    "    #output = sess.run(op, feed_dict={x: x_real_, y: y_real_, p: 1.0})\n",
    "    print(output)\n",
    "    sess.close()\n",
    "\n",
    "print(type(x_real_))\n",
    "print(x_real_.shape)\n",
    "restore_model_pb()"
   ]
  },
  {
   "cell_type": "code",
   "execution_count": null,
   "metadata": {},
   "outputs": [],
   "source": [
    "# ckpt模型的恢复\n",
    "def restore_model_ckpt():\n",
    "    sess = tf.Session()\n",
    "    # 加载模型结构\n",
    "    saver = tf.train.import_meta_graph('./save_path/file_name.meta')\n",
    "    # 只需要指定目录就可以恢复所有变量信息\n",
    "    saver.restore(sess, tf.train.latest_checkpoint('./save_path'))\n",
    "    # 直接获取保存的变量\n",
    "    print(sess.run('w:0'))\n",
    " \n",
    "    input_x = sess.graph.get_tensor_by_name('input_x:0')\n",
    "    # # 获取需要进行计算的operator\n",
    "    op = sess.graph.get_tensor_by_name('predict:0')\n",
    "    print(sess.run(op, feed_dict={input_x: np.expand_dims(mnist.test.images[15], axis=0)}))\n",
    "    sess.close()\n",
    "\n"
   ]
  }
 ],
 "metadata": {
  "kernelspec": {
   "display_name": "Python 3",
   "language": "python",
   "name": "python3"
  },
  "language_info": {
   "codemirror_mode": {
    "name": "ipython",
    "version": 3
   },
   "file_extension": ".py",
   "mimetype": "text/x-python",
   "name": "python",
   "nbconvert_exporter": "python",
   "pygments_lexer": "ipython3",
   "version": "3.6.3"
  }
 },
 "nbformat": 4,
 "nbformat_minor": 2
}
